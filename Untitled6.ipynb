{
 "cells": [
  {
   "cell_type": "markdown",
   "id": "a7212536",
   "metadata": {},
   "source": [
    "# DATA SCEIENCE INTERNSHIP- PROJECT\n",
    "Name - ASWATHY SASI"
   ]
  },
  {
   "cell_type": "markdown",
   "id": "1464142f",
   "metadata": {},
   "source": [
    "## INTRODUCTION"
   ]
  },
  {
   "cell_type": "markdown",
   "id": "ed020002",
   "metadata": {},
   "source": [
    "The sinking of the RMS Titanic in 1912 is one of the most well-known maritime disasters in history. The tragic event resulted in the loss of numerous lives. However, certain factors played a role in determining the likelihood of survival for passengers aboard the Titanic. In this project, we aim to build a system that predicts whether a person would have survived the sinking based on various factors, such as socio-economic status, age, gender, and more.\n",
    "\n",
    "The Titanic dataset provides valuable information about the passengers, including their socio-economic status, personal details, and survival outcome. By analyzing this dataset and applying machine learning techniques, we can identify the factors that were most likely to lead to survival during the disaster.\n",
    "\n",
    "The key factors we will consider in this project include socio-economic status, which can be an indicator of access to resources and priority in evacuation; age, as children and younger individuals might have been given higher priority during the rescue efforts; and gender, as there were reports of \"women and children first\" during the evacuation process.\n",
    "\n",
    "By building a predictive model using these factors, we can assess their significance in determining survival. This system can provide insights into the factors that played a crucial role in determining a passenger's likelihood of survival during the Titanic disaster. It is important to note that this analysis is based on historical data and should be interpreted with caution, as individual circumstances and other factors might have influenced survival outcomes as well.\n",
    "\n",
    "Through this project, we aim to contribute to our understanding of the Titanic disaster, the factors that affected survival, and the potential implications for future emergency response systems."
   ]
  },
  {
   "cell_type": "markdown",
   "id": "9f303f68",
   "metadata": {},
   "source": [
    "## CONTEXT"
   ]
  },
  {
   "cell_type": "markdown",
   "id": "1c4c497a",
   "metadata": {},
   "source": [
    "The Titanic disaster serves as a significant event in history, highlighting the vulnerabilities of even the most technologically advanced ships and the importance of emergency preparedness. By analyzing the factors that influenced survival during this tragic event, we can gain insights into the decision-making processes and potential areas for improvement in future emergency situations. By applying machine learning techniques to this dataset, we can develop a system that predicts the likelihood of survival based on factors such as socio-economic status, age, and gender."
   ]
  },
  {
   "cell_type": "markdown",
   "id": "9a33af91",
   "metadata": {},
   "source": [
    "## ABOUT THE DATASET"
   ]
  },
  {
   "cell_type": "markdown",
   "id": "e0cbf377",
   "metadata": {},
   "source": [
    "We will use the classic Titanic dataset. The dataconsists of demographic and traveling information for 418 of the Titanic passengers, and the goal isto predict the survival of these passengers.This dataset contains information about general information and detail of each passengers.\n",
    "\n",
    "Pclass: Passenger class (1 = 1st; 2 = 2nd; 3 = 3rd)\n",
    "\n",
    "Survival: A Boolean indicating whether the passenger survived or not (0 = No; 1 = Yes); this is our target\n",
    "\n",
    "Name: A field rich in information as it contains title and family names\n",
    "\n",
    "Sex: male/female\n",
    "\n",
    "Age: Age, asignificant portion of values aremissing\n",
    "\n",
    "Sibsp: Number of siblings/spouses aboard\n",
    "\n",
    "Parch: Number of parents/children aboard\n",
    "\n",
    "Ticket: Ticket number.\n",
    "\n",
    "Fare: Passenger fare (British Pound).\n",
    "\n",
    "Cabin: Doesthe location of the cabin influence chances of survival?\n",
    "\n",
    "Embarked: Port of embarkation (C = Cherbourg; Q = Queenstown; S = Southampton)"
   ]
  },
  {
   "cell_type": "markdown",
   "id": "27fd1a6d",
   "metadata": {},
   "source": [
    "###  Importing libriaires and reading the dataset"
   ]
  },
  {
   "cell_type": "code",
   "execution_count": 1,
   "id": "6167bb61",
   "metadata": {},
   "outputs": [],
   "source": [
    "import numpy as np\n",
    "import pandas as pd\n",
    "import seaborn as sns\n",
    "import matplotlib.pyplot as plt"
   ]
  },
  {
   "cell_type": "code",
   "execution_count": 2,
   "id": "e1744b96",
   "metadata": {},
   "outputs": [],
   "source": [
    "df=pd.read_csv(\"C:/Users/aswat/Downloads/titanic_dataset.csv\")"
   ]
  },
  {
   "cell_type": "markdown",
   "id": "0abbae54",
   "metadata": {},
   "source": [
    "### Exploratory Data Analysis (EDA)"
   ]
  },
  {
   "cell_type": "code",
   "execution_count": 3,
   "id": "8de1873b",
   "metadata": {},
   "outputs": [
    {
     "data": {
      "text/html": [
       "<div>\n",
       "<style scoped>\n",
       "    .dataframe tbody tr th:only-of-type {\n",
       "        vertical-align: middle;\n",
       "    }\n",
       "\n",
       "    .dataframe tbody tr th {\n",
       "        vertical-align: top;\n",
       "    }\n",
       "\n",
       "    .dataframe thead th {\n",
       "        text-align: right;\n",
       "    }\n",
       "</style>\n",
       "<table border=\"1\" class=\"dataframe\">\n",
       "  <thead>\n",
       "    <tr style=\"text-align: right;\">\n",
       "      <th></th>\n",
       "      <th>PassengerId</th>\n",
       "      <th>Survived</th>\n",
       "      <th>Pclass</th>\n",
       "      <th>Name</th>\n",
       "      <th>Sex</th>\n",
       "      <th>Age</th>\n",
       "      <th>SibSp</th>\n",
       "      <th>Parch</th>\n",
       "      <th>Ticket</th>\n",
       "      <th>Fare</th>\n",
       "      <th>Cabin</th>\n",
       "      <th>Embarked</th>\n",
       "    </tr>\n",
       "  </thead>\n",
       "  <tbody>\n",
       "    <tr>\n",
       "      <th>0</th>\n",
       "      <td>1</td>\n",
       "      <td>0</td>\n",
       "      <td>3</td>\n",
       "      <td>Braund, Mr. Owen Harris</td>\n",
       "      <td>male</td>\n",
       "      <td>22.0</td>\n",
       "      <td>1</td>\n",
       "      <td>0</td>\n",
       "      <td>A/5 21171</td>\n",
       "      <td>7.2500</td>\n",
       "      <td>NaN</td>\n",
       "      <td>S</td>\n",
       "    </tr>\n",
       "    <tr>\n",
       "      <th>1</th>\n",
       "      <td>2</td>\n",
       "      <td>1</td>\n",
       "      <td>1</td>\n",
       "      <td>Cumings, Mrs. John Bradley (Florence Briggs Th...</td>\n",
       "      <td>female</td>\n",
       "      <td>38.0</td>\n",
       "      <td>1</td>\n",
       "      <td>0</td>\n",
       "      <td>PC 17599</td>\n",
       "      <td>71.2833</td>\n",
       "      <td>C85</td>\n",
       "      <td>C</td>\n",
       "    </tr>\n",
       "    <tr>\n",
       "      <th>2</th>\n",
       "      <td>3</td>\n",
       "      <td>1</td>\n",
       "      <td>3</td>\n",
       "      <td>Heikkinen, Miss. Laina</td>\n",
       "      <td>female</td>\n",
       "      <td>26.0</td>\n",
       "      <td>0</td>\n",
       "      <td>0</td>\n",
       "      <td>STON/O2. 3101282</td>\n",
       "      <td>7.9250</td>\n",
       "      <td>NaN</td>\n",
       "      <td>S</td>\n",
       "    </tr>\n",
       "    <tr>\n",
       "      <th>3</th>\n",
       "      <td>4</td>\n",
       "      <td>1</td>\n",
       "      <td>1</td>\n",
       "      <td>Futrelle, Mrs. Jacques Heath (Lily May Peel)</td>\n",
       "      <td>female</td>\n",
       "      <td>35.0</td>\n",
       "      <td>1</td>\n",
       "      <td>0</td>\n",
       "      <td>113803</td>\n",
       "      <td>53.1000</td>\n",
       "      <td>C123</td>\n",
       "      <td>S</td>\n",
       "    </tr>\n",
       "    <tr>\n",
       "      <th>4</th>\n",
       "      <td>5</td>\n",
       "      <td>0</td>\n",
       "      <td>3</td>\n",
       "      <td>Allen, Mr. William Henry</td>\n",
       "      <td>male</td>\n",
       "      <td>35.0</td>\n",
       "      <td>0</td>\n",
       "      <td>0</td>\n",
       "      <td>373450</td>\n",
       "      <td>8.0500</td>\n",
       "      <td>NaN</td>\n",
       "      <td>S</td>\n",
       "    </tr>\n",
       "  </tbody>\n",
       "</table>\n",
       "</div>"
      ],
      "text/plain": [
       "   PassengerId  Survived  Pclass  \\\n",
       "0            1         0       3   \n",
       "1            2         1       1   \n",
       "2            3         1       3   \n",
       "3            4         1       1   \n",
       "4            5         0       3   \n",
       "\n",
       "                                                Name     Sex   Age  SibSp  \\\n",
       "0                            Braund, Mr. Owen Harris    male  22.0      1   \n",
       "1  Cumings, Mrs. John Bradley (Florence Briggs Th...  female  38.0      1   \n",
       "2                             Heikkinen, Miss. Laina  female  26.0      0   \n",
       "3       Futrelle, Mrs. Jacques Heath (Lily May Peel)  female  35.0      1   \n",
       "4                           Allen, Mr. William Henry    male  35.0      0   \n",
       "\n",
       "   Parch            Ticket     Fare Cabin Embarked  \n",
       "0      0         A/5 21171   7.2500   NaN        S  \n",
       "1      0          PC 17599  71.2833   C85        C  \n",
       "2      0  STON/O2. 3101282   7.9250   NaN        S  \n",
       "3      0            113803  53.1000  C123        S  \n",
       "4      0            373450   8.0500   NaN        S  "
      ]
     },
     "execution_count": 3,
     "metadata": {},
     "output_type": "execute_result"
    }
   ],
   "source": [
    "df.head()"
   ]
  },
  {
   "cell_type": "code",
   "execution_count": 4,
   "id": "1dd38f2f",
   "metadata": {},
   "outputs": [
    {
     "data": {
      "text/html": [
       "<div>\n",
       "<style scoped>\n",
       "    .dataframe tbody tr th:only-of-type {\n",
       "        vertical-align: middle;\n",
       "    }\n",
       "\n",
       "    .dataframe tbody tr th {\n",
       "        vertical-align: top;\n",
       "    }\n",
       "\n",
       "    .dataframe thead th {\n",
       "        text-align: right;\n",
       "    }\n",
       "</style>\n",
       "<table border=\"1\" class=\"dataframe\">\n",
       "  <thead>\n",
       "    <tr style=\"text-align: right;\">\n",
       "      <th></th>\n",
       "      <th>PassengerId</th>\n",
       "      <th>Survived</th>\n",
       "      <th>Pclass</th>\n",
       "      <th>Name</th>\n",
       "      <th>Sex</th>\n",
       "      <th>Age</th>\n",
       "      <th>SibSp</th>\n",
       "      <th>Parch</th>\n",
       "      <th>Ticket</th>\n",
       "      <th>Fare</th>\n",
       "      <th>Cabin</th>\n",
       "      <th>Embarked</th>\n",
       "    </tr>\n",
       "    <tr>\n",
       "      <th>Passengerld</th>\n",
       "      <th></th>\n",
       "      <th></th>\n",
       "      <th></th>\n",
       "      <th></th>\n",
       "      <th></th>\n",
       "      <th></th>\n",
       "      <th></th>\n",
       "      <th></th>\n",
       "      <th></th>\n",
       "      <th></th>\n",
       "      <th></th>\n",
       "      <th></th>\n",
       "    </tr>\n",
       "  </thead>\n",
       "  <tbody>\n",
       "    <tr>\n",
       "      <th>0</th>\n",
       "      <td>1</td>\n",
       "      <td>0</td>\n",
       "      <td>3</td>\n",
       "      <td>Braund, Mr. Owen Harris</td>\n",
       "      <td>male</td>\n",
       "      <td>22.0</td>\n",
       "      <td>1</td>\n",
       "      <td>0</td>\n",
       "      <td>A/5 21171</td>\n",
       "      <td>7.2500</td>\n",
       "      <td>NaN</td>\n",
       "      <td>S</td>\n",
       "    </tr>\n",
       "    <tr>\n",
       "      <th>1</th>\n",
       "      <td>2</td>\n",
       "      <td>1</td>\n",
       "      <td>1</td>\n",
       "      <td>Cumings, Mrs. John Bradley (Florence Briggs Th...</td>\n",
       "      <td>female</td>\n",
       "      <td>38.0</td>\n",
       "      <td>1</td>\n",
       "      <td>0</td>\n",
       "      <td>PC 17599</td>\n",
       "      <td>71.2833</td>\n",
       "      <td>C85</td>\n",
       "      <td>C</td>\n",
       "    </tr>\n",
       "    <tr>\n",
       "      <th>2</th>\n",
       "      <td>3</td>\n",
       "      <td>1</td>\n",
       "      <td>3</td>\n",
       "      <td>Heikkinen, Miss. Laina</td>\n",
       "      <td>female</td>\n",
       "      <td>26.0</td>\n",
       "      <td>0</td>\n",
       "      <td>0</td>\n",
       "      <td>STON/O2. 3101282</td>\n",
       "      <td>7.9250</td>\n",
       "      <td>NaN</td>\n",
       "      <td>S</td>\n",
       "    </tr>\n",
       "    <tr>\n",
       "      <th>3</th>\n",
       "      <td>4</td>\n",
       "      <td>1</td>\n",
       "      <td>1</td>\n",
       "      <td>Futrelle, Mrs. Jacques Heath (Lily May Peel)</td>\n",
       "      <td>female</td>\n",
       "      <td>35.0</td>\n",
       "      <td>1</td>\n",
       "      <td>0</td>\n",
       "      <td>113803</td>\n",
       "      <td>53.1000</td>\n",
       "      <td>C123</td>\n",
       "      <td>S</td>\n",
       "    </tr>\n",
       "    <tr>\n",
       "      <th>4</th>\n",
       "      <td>5</td>\n",
       "      <td>0</td>\n",
       "      <td>3</td>\n",
       "      <td>Allen, Mr. William Henry</td>\n",
       "      <td>male</td>\n",
       "      <td>35.0</td>\n",
       "      <td>0</td>\n",
       "      <td>0</td>\n",
       "      <td>373450</td>\n",
       "      <td>8.0500</td>\n",
       "      <td>NaN</td>\n",
       "      <td>S</td>\n",
       "    </tr>\n",
       "  </tbody>\n",
       "</table>\n",
       "</div>"
      ],
      "text/plain": [
       "             PassengerId  Survived  Pclass  \\\n",
       "Passengerld                                  \n",
       "0                      1         0       3   \n",
       "1                      2         1       1   \n",
       "2                      3         1       3   \n",
       "3                      4         1       1   \n",
       "4                      5         0       3   \n",
       "\n",
       "                                                          Name     Sex   Age  \\\n",
       "Passengerld                                                                    \n",
       "0                                      Braund, Mr. Owen Harris    male  22.0   \n",
       "1            Cumings, Mrs. John Bradley (Florence Briggs Th...  female  38.0   \n",
       "2                                       Heikkinen, Miss. Laina  female  26.0   \n",
       "3                 Futrelle, Mrs. Jacques Heath (Lily May Peel)  female  35.0   \n",
       "4                                     Allen, Mr. William Henry    male  35.0   \n",
       "\n",
       "             SibSp  Parch            Ticket     Fare Cabin Embarked  \n",
       "Passengerld                                                          \n",
       "0                1      0         A/5 21171   7.2500   NaN        S  \n",
       "1                1      0          PC 17599  71.2833   C85        C  \n",
       "2                0      0  STON/O2. 3101282   7.9250   NaN        S  \n",
       "3                1      0            113803  53.1000  C123        S  \n",
       "4                0      0            373450   8.0500   NaN        S  "
      ]
     },
     "execution_count": 4,
     "metadata": {},
     "output_type": "execute_result"
    }
   ],
   "source": [
    "#making passengerid as index column\n",
    "df.index.name\n",
    "df.index.name='Passengerld'\n",
    "df.index.name\n",
    "df.head()"
   ]
  },
  {
   "cell_type": "markdown",
   "id": "d769e6fc",
   "metadata": {},
   "source": [
    "##### Basic informations of the data"
   ]
  },
  {
   "cell_type": "code",
   "execution_count": 5,
   "id": "956718df",
   "metadata": {},
   "outputs": [
    {
     "data": {
      "text/plain": [
       "(891, 12)"
      ]
     },
     "execution_count": 5,
     "metadata": {},
     "output_type": "execute_result"
    }
   ],
   "source": [
    "df.shape"
   ]
  },
  {
   "cell_type": "code",
   "execution_count": 6,
   "id": "66e41810",
   "metadata": {},
   "outputs": [
    {
     "data": {
      "text/plain": [
       "PassengerId      int64\n",
       "Survived         int64\n",
       "Pclass           int64\n",
       "Name            object\n",
       "Sex             object\n",
       "Age            float64\n",
       "SibSp            int64\n",
       "Parch            int64\n",
       "Ticket          object\n",
       "Fare           float64\n",
       "Cabin           object\n",
       "Embarked        object\n",
       "dtype: object"
      ]
     },
     "execution_count": 6,
     "metadata": {},
     "output_type": "execute_result"
    }
   ],
   "source": [
    "df.dtypes"
   ]
  },
  {
   "cell_type": "code",
   "execution_count": 7,
   "id": "31f53e12",
   "metadata": {},
   "outputs": [
    {
     "data": {
      "text/html": [
       "<div>\n",
       "<style scoped>\n",
       "    .dataframe tbody tr th:only-of-type {\n",
       "        vertical-align: middle;\n",
       "    }\n",
       "\n",
       "    .dataframe tbody tr th {\n",
       "        vertical-align: top;\n",
       "    }\n",
       "\n",
       "    .dataframe thead th {\n",
       "        text-align: right;\n",
       "    }\n",
       "</style>\n",
       "<table border=\"1\" class=\"dataframe\">\n",
       "  <thead>\n",
       "    <tr style=\"text-align: right;\">\n",
       "      <th></th>\n",
       "      <th>PassengerId</th>\n",
       "      <th>Survived</th>\n",
       "      <th>Pclass</th>\n",
       "      <th>Age</th>\n",
       "      <th>SibSp</th>\n",
       "      <th>Parch</th>\n",
       "      <th>Fare</th>\n",
       "    </tr>\n",
       "  </thead>\n",
       "  <tbody>\n",
       "    <tr>\n",
       "      <th>count</th>\n",
       "      <td>891.000000</td>\n",
       "      <td>891.000000</td>\n",
       "      <td>891.000000</td>\n",
       "      <td>714.000000</td>\n",
       "      <td>891.000000</td>\n",
       "      <td>891.000000</td>\n",
       "      <td>891.000000</td>\n",
       "    </tr>\n",
       "    <tr>\n",
       "      <th>mean</th>\n",
       "      <td>446.000000</td>\n",
       "      <td>0.383838</td>\n",
       "      <td>2.308642</td>\n",
       "      <td>29.699118</td>\n",
       "      <td>0.523008</td>\n",
       "      <td>0.381594</td>\n",
       "      <td>32.204208</td>\n",
       "    </tr>\n",
       "    <tr>\n",
       "      <th>std</th>\n",
       "      <td>257.353842</td>\n",
       "      <td>0.486592</td>\n",
       "      <td>0.836071</td>\n",
       "      <td>14.526497</td>\n",
       "      <td>1.102743</td>\n",
       "      <td>0.806057</td>\n",
       "      <td>49.693429</td>\n",
       "    </tr>\n",
       "    <tr>\n",
       "      <th>min</th>\n",
       "      <td>1.000000</td>\n",
       "      <td>0.000000</td>\n",
       "      <td>1.000000</td>\n",
       "      <td>0.420000</td>\n",
       "      <td>0.000000</td>\n",
       "      <td>0.000000</td>\n",
       "      <td>0.000000</td>\n",
       "    </tr>\n",
       "    <tr>\n",
       "      <th>25%</th>\n",
       "      <td>223.500000</td>\n",
       "      <td>0.000000</td>\n",
       "      <td>2.000000</td>\n",
       "      <td>20.125000</td>\n",
       "      <td>0.000000</td>\n",
       "      <td>0.000000</td>\n",
       "      <td>7.910400</td>\n",
       "    </tr>\n",
       "    <tr>\n",
       "      <th>50%</th>\n",
       "      <td>446.000000</td>\n",
       "      <td>0.000000</td>\n",
       "      <td>3.000000</td>\n",
       "      <td>28.000000</td>\n",
       "      <td>0.000000</td>\n",
       "      <td>0.000000</td>\n",
       "      <td>14.454200</td>\n",
       "    </tr>\n",
       "    <tr>\n",
       "      <th>75%</th>\n",
       "      <td>668.500000</td>\n",
       "      <td>1.000000</td>\n",
       "      <td>3.000000</td>\n",
       "      <td>38.000000</td>\n",
       "      <td>1.000000</td>\n",
       "      <td>0.000000</td>\n",
       "      <td>31.000000</td>\n",
       "    </tr>\n",
       "    <tr>\n",
       "      <th>max</th>\n",
       "      <td>891.000000</td>\n",
       "      <td>1.000000</td>\n",
       "      <td>3.000000</td>\n",
       "      <td>80.000000</td>\n",
       "      <td>8.000000</td>\n",
       "      <td>6.000000</td>\n",
       "      <td>512.329200</td>\n",
       "    </tr>\n",
       "  </tbody>\n",
       "</table>\n",
       "</div>"
      ],
      "text/plain": [
       "       PassengerId    Survived      Pclass         Age       SibSp  \\\n",
       "count   891.000000  891.000000  891.000000  714.000000  891.000000   \n",
       "mean    446.000000    0.383838    2.308642   29.699118    0.523008   \n",
       "std     257.353842    0.486592    0.836071   14.526497    1.102743   \n",
       "min       1.000000    0.000000    1.000000    0.420000    0.000000   \n",
       "25%     223.500000    0.000000    2.000000   20.125000    0.000000   \n",
       "50%     446.000000    0.000000    3.000000   28.000000    0.000000   \n",
       "75%     668.500000    1.000000    3.000000   38.000000    1.000000   \n",
       "max     891.000000    1.000000    3.000000   80.000000    8.000000   \n",
       "\n",
       "            Parch        Fare  \n",
       "count  891.000000  891.000000  \n",
       "mean     0.381594   32.204208  \n",
       "std      0.806057   49.693429  \n",
       "min      0.000000    0.000000  \n",
       "25%      0.000000    7.910400  \n",
       "50%      0.000000   14.454200  \n",
       "75%      0.000000   31.000000  \n",
       "max      6.000000  512.329200  "
      ]
     },
     "execution_count": 7,
     "metadata": {},
     "output_type": "execute_result"
    }
   ],
   "source": [
    "#describing the data of integer column\n",
    "num_col = df.select_dtypes(['float64','int64'])\n",
    "num_col.describe()"
   ]
  },
  {
   "cell_type": "code",
   "execution_count": 8,
   "id": "c616dae0",
   "metadata": {},
   "outputs": [
    {
     "data": {
      "text/html": [
       "<div>\n",
       "<style scoped>\n",
       "    .dataframe tbody tr th:only-of-type {\n",
       "        vertical-align: middle;\n",
       "    }\n",
       "\n",
       "    .dataframe tbody tr th {\n",
       "        vertical-align: top;\n",
       "    }\n",
       "\n",
       "    .dataframe thead th {\n",
       "        text-align: right;\n",
       "    }\n",
       "</style>\n",
       "<table border=\"1\" class=\"dataframe\">\n",
       "  <thead>\n",
       "    <tr style=\"text-align: right;\">\n",
       "      <th></th>\n",
       "      <th>count</th>\n",
       "      <th>unique</th>\n",
       "      <th>top</th>\n",
       "      <th>freq</th>\n",
       "    </tr>\n",
       "  </thead>\n",
       "  <tbody>\n",
       "    <tr>\n",
       "      <th>Name</th>\n",
       "      <td>891</td>\n",
       "      <td>891</td>\n",
       "      <td>Braund, Mr. Owen Harris</td>\n",
       "      <td>1</td>\n",
       "    </tr>\n",
       "    <tr>\n",
       "      <th>Sex</th>\n",
       "      <td>891</td>\n",
       "      <td>2</td>\n",
       "      <td>male</td>\n",
       "      <td>577</td>\n",
       "    </tr>\n",
       "    <tr>\n",
       "      <th>Ticket</th>\n",
       "      <td>891</td>\n",
       "      <td>681</td>\n",
       "      <td>347082</td>\n",
       "      <td>7</td>\n",
       "    </tr>\n",
       "    <tr>\n",
       "      <th>Cabin</th>\n",
       "      <td>204</td>\n",
       "      <td>147</td>\n",
       "      <td>B96 B98</td>\n",
       "      <td>4</td>\n",
       "    </tr>\n",
       "    <tr>\n",
       "      <th>Embarked</th>\n",
       "      <td>889</td>\n",
       "      <td>3</td>\n",
       "      <td>S</td>\n",
       "      <td>644</td>\n",
       "    </tr>\n",
       "  </tbody>\n",
       "</table>\n",
       "</div>"
      ],
      "text/plain": [
       "         count unique                      top freq\n",
       "Name       891    891  Braund, Mr. Owen Harris    1\n",
       "Sex        891      2                     male  577\n",
       "Ticket     891    681                   347082    7\n",
       "Cabin      204    147                  B96 B98    4\n",
       "Embarked   889      3                        S  644"
      ]
     },
     "execution_count": 8,
     "metadata": {},
     "output_type": "execute_result"
    }
   ],
   "source": [
    "#Describing the data of object column\n",
    "obj_col = df.select_dtypes(['object'])\n",
    "obj_col.describe().T"
   ]
  },
  {
   "cell_type": "code",
   "execution_count": 9,
   "id": "448eca17",
   "metadata": {
    "scrolled": true
   },
   "outputs": [
    {
     "data": {
      "text/plain": [
       "0"
      ]
     },
     "execution_count": 9,
     "metadata": {},
     "output_type": "execute_result"
    }
   ],
   "source": [
    "#find the duplicates\n",
    "df.duplicated().sum()"
   ]
  },
  {
   "cell_type": "markdown",
   "id": "1e5e0f58",
   "metadata": {},
   "source": [
    "There is no duplicate values"
   ]
  },
  {
   "cell_type": "code",
   "execution_count": 10,
   "id": "bfe83509",
   "metadata": {},
   "outputs": [
    {
     "data": {
      "text/plain": [
       "PassengerId      0\n",
       "Survived         0\n",
       "Pclass           0\n",
       "Name             0\n",
       "Sex              0\n",
       "Age            177\n",
       "SibSp            0\n",
       "Parch            0\n",
       "Ticket           0\n",
       "Fare             0\n",
       "Cabin          687\n",
       "Embarked         2\n",
       "dtype: int64"
      ]
     },
     "execution_count": 10,
     "metadata": {},
     "output_type": "execute_result"
    }
   ],
   "source": [
    "#finding the missing values\n",
    "df.isna().sum()"
   ]
  },
  {
   "cell_type": "markdown",
   "id": "49dc8068",
   "metadata": {},
   "source": [
    "There are missing values present in this dataset."
   ]
  },
  {
   "cell_type": "code",
   "execution_count": 11,
   "id": "10aef155",
   "metadata": {},
   "outputs": [],
   "source": [
    "#removing the missing values\n",
    "df['Age']=df['Age'].fillna(df['Age'].mean())"
   ]
  },
  {
   "cell_type": "code",
   "execution_count": 12,
   "id": "bc45ccc4",
   "metadata": {},
   "outputs": [],
   "source": [
    "df['Cabin'].fillna('not specified',inplace=True)\n",
    "df['Embarked'].fillna('not specified', inplace=True)\n"
   ]
  },
  {
   "cell_type": "markdown",
   "id": "62f704e5",
   "metadata": {},
   "source": [
    "By using this code, any missing values in the 'Cabin' column will be replaced with the string 'not specified', making it easier to handle missing data and potentially preserving the information that the value was missing in the original dataset."
   ]
  },
  {
   "cell_type": "code",
   "execution_count": 13,
   "id": "bdfaf767",
   "metadata": {},
   "outputs": [
    {
     "data": {
      "text/plain": [
       "PassengerId    0\n",
       "Survived       0\n",
       "Pclass         0\n",
       "Name           0\n",
       "Sex            0\n",
       "Age            0\n",
       "SibSp          0\n",
       "Parch          0\n",
       "Ticket         0\n",
       "Fare           0\n",
       "Cabin          0\n",
       "Embarked       0\n",
       "dtype: int64"
      ]
     },
     "execution_count": 13,
     "metadata": {},
     "output_type": "execute_result"
    }
   ],
   "source": [
    "#checking if the missing values are removed\n",
    "df.isna().sum()"
   ]
  },
  {
   "cell_type": "markdown",
   "id": "7493f46b",
   "metadata": {},
   "source": [
    "Now there is no missing values"
   ]
  },
  {
   "cell_type": "code",
   "execution_count": 14,
   "id": "3bced85e",
   "metadata": {},
   "outputs": [
    {
     "data": {
      "text/plain": [
       "0    549\n",
       "1    342\n",
       "Name: Survived, dtype: int64"
      ]
     },
     "execution_count": 14,
     "metadata": {},
     "output_type": "execute_result"
    }
   ],
   "source": [
    "# Count the number of survivors\n",
    "df['Survived'].value_counts()\n"
   ]
  },
  {
   "cell_type": "markdown",
   "id": "732683ef",
   "metadata": {},
   "source": [
    "#### Insight\n",
    "\n",
    "There are 549 individuals in the dataset who did not survive (Survived = 0) and 342 individuals who survived (Survived = 1)."
   ]
  },
  {
   "cell_type": "code",
   "execution_count": 15,
   "id": "47e21f7c",
   "metadata": {},
   "outputs": [
    {
     "data": {
      "text/plain": [
       "male      577\n",
       "female    314\n",
       "Name: Sex, dtype: int64"
      ]
     },
     "execution_count": 15,
     "metadata": {},
     "output_type": "execute_result"
    }
   ],
   "source": [
    "# Count the number of survivors\n",
    "df['Sex'].value_counts()\n"
   ]
  },
  {
   "cell_type": "code",
   "execution_count": 16,
   "id": "cd2d4948",
   "metadata": {},
   "outputs": [],
   "source": [
    "from sklearn.preprocessing import LabelEncoder\n",
    "label_en=LabelEncoder()\n",
    "a=['Sex']\n",
    "for i in np.arange(len(a)):\n",
    "    df[a[i]]=label_en.fit_transform(df[a[i]])"
   ]
  },
  {
   "cell_type": "code",
   "execution_count": 18,
   "id": "16ae111d",
   "metadata": {},
   "outputs": [
    {
     "data": {
      "text/html": [
       "<div>\n",
       "<style scoped>\n",
       "    .dataframe tbody tr th:only-of-type {\n",
       "        vertical-align: middle;\n",
       "    }\n",
       "\n",
       "    .dataframe tbody tr th {\n",
       "        vertical-align: top;\n",
       "    }\n",
       "\n",
       "    .dataframe thead th {\n",
       "        text-align: right;\n",
       "    }\n",
       "</style>\n",
       "<table border=\"1\" class=\"dataframe\">\n",
       "  <thead>\n",
       "    <tr style=\"text-align: right;\">\n",
       "      <th></th>\n",
       "      <th>PassengerId</th>\n",
       "      <th>Survived</th>\n",
       "      <th>Pclass</th>\n",
       "      <th>Name</th>\n",
       "      <th>Sex</th>\n",
       "      <th>Age</th>\n",
       "      <th>SibSp</th>\n",
       "      <th>Parch</th>\n",
       "      <th>Ticket</th>\n",
       "      <th>Fare</th>\n",
       "      <th>Cabin</th>\n",
       "      <th>Embarked</th>\n",
       "    </tr>\n",
       "    <tr>\n",
       "      <th>Passengerld</th>\n",
       "      <th></th>\n",
       "      <th></th>\n",
       "      <th></th>\n",
       "      <th></th>\n",
       "      <th></th>\n",
       "      <th></th>\n",
       "      <th></th>\n",
       "      <th></th>\n",
       "      <th></th>\n",
       "      <th></th>\n",
       "      <th></th>\n",
       "      <th></th>\n",
       "    </tr>\n",
       "  </thead>\n",
       "  <tbody>\n",
       "    <tr>\n",
       "      <th>0</th>\n",
       "      <td>1</td>\n",
       "      <td>0</td>\n",
       "      <td>3</td>\n",
       "      <td>Braund, Mr. Owen Harris</td>\n",
       "      <td>1</td>\n",
       "      <td>22.0</td>\n",
       "      <td>1</td>\n",
       "      <td>0</td>\n",
       "      <td>A/5 21171</td>\n",
       "      <td>7.2500</td>\n",
       "      <td>not specified</td>\n",
       "      <td>S</td>\n",
       "    </tr>\n",
       "    <tr>\n",
       "      <th>1</th>\n",
       "      <td>2</td>\n",
       "      <td>1</td>\n",
       "      <td>1</td>\n",
       "      <td>Cumings, Mrs. John Bradley (Florence Briggs Th...</td>\n",
       "      <td>0</td>\n",
       "      <td>38.0</td>\n",
       "      <td>1</td>\n",
       "      <td>0</td>\n",
       "      <td>PC 17599</td>\n",
       "      <td>71.2833</td>\n",
       "      <td>C85</td>\n",
       "      <td>C</td>\n",
       "    </tr>\n",
       "    <tr>\n",
       "      <th>2</th>\n",
       "      <td>3</td>\n",
       "      <td>1</td>\n",
       "      <td>3</td>\n",
       "      <td>Heikkinen, Miss. Laina</td>\n",
       "      <td>0</td>\n",
       "      <td>26.0</td>\n",
       "      <td>0</td>\n",
       "      <td>0</td>\n",
       "      <td>STON/O2. 3101282</td>\n",
       "      <td>7.9250</td>\n",
       "      <td>not specified</td>\n",
       "      <td>S</td>\n",
       "    </tr>\n",
       "    <tr>\n",
       "      <th>3</th>\n",
       "      <td>4</td>\n",
       "      <td>1</td>\n",
       "      <td>1</td>\n",
       "      <td>Futrelle, Mrs. Jacques Heath (Lily May Peel)</td>\n",
       "      <td>0</td>\n",
       "      <td>35.0</td>\n",
       "      <td>1</td>\n",
       "      <td>0</td>\n",
       "      <td>113803</td>\n",
       "      <td>53.1000</td>\n",
       "      <td>C123</td>\n",
       "      <td>S</td>\n",
       "    </tr>\n",
       "    <tr>\n",
       "      <th>4</th>\n",
       "      <td>5</td>\n",
       "      <td>0</td>\n",
       "      <td>3</td>\n",
       "      <td>Allen, Mr. William Henry</td>\n",
       "      <td>1</td>\n",
       "      <td>35.0</td>\n",
       "      <td>0</td>\n",
       "      <td>0</td>\n",
       "      <td>373450</td>\n",
       "      <td>8.0500</td>\n",
       "      <td>not specified</td>\n",
       "      <td>S</td>\n",
       "    </tr>\n",
       "  </tbody>\n",
       "</table>\n",
       "</div>"
      ],
      "text/plain": [
       "             PassengerId  Survived  Pclass  \\\n",
       "Passengerld                                  \n",
       "0                      1         0       3   \n",
       "1                      2         1       1   \n",
       "2                      3         1       3   \n",
       "3                      4         1       1   \n",
       "4                      5         0       3   \n",
       "\n",
       "                                                          Name  Sex   Age  \\\n",
       "Passengerld                                                                 \n",
       "0                                      Braund, Mr. Owen Harris    1  22.0   \n",
       "1            Cumings, Mrs. John Bradley (Florence Briggs Th...    0  38.0   \n",
       "2                                       Heikkinen, Miss. Laina    0  26.0   \n",
       "3                 Futrelle, Mrs. Jacques Heath (Lily May Peel)    0  35.0   \n",
       "4                                     Allen, Mr. William Henry    1  35.0   \n",
       "\n",
       "             SibSp  Parch            Ticket     Fare          Cabin Embarked  \n",
       "Passengerld                                                                   \n",
       "0                1      0         A/5 21171   7.2500  not specified        S  \n",
       "1                1      0          PC 17599  71.2833            C85        C  \n",
       "2                0      0  STON/O2. 3101282   7.9250  not specified        S  \n",
       "3                1      0            113803  53.1000           C123        S  \n",
       "4                0      0            373450   8.0500  not specified        S  "
      ]
     },
     "execution_count": 18,
     "metadata": {},
     "output_type": "execute_result"
    }
   ],
   "source": [
    "df.head()"
   ]
  },
  {
   "cell_type": "code",
   "execution_count": 19,
   "id": "f9172693",
   "metadata": {},
   "outputs": [
    {
     "data": {
      "text/html": [
       "<div>\n",
       "<style scoped>\n",
       "    .dataframe tbody tr th:only-of-type {\n",
       "        vertical-align: middle;\n",
       "    }\n",
       "\n",
       "    .dataframe tbody tr th {\n",
       "        vertical-align: top;\n",
       "    }\n",
       "\n",
       "    .dataframe thead th {\n",
       "        text-align: right;\n",
       "    }\n",
       "</style>\n",
       "<table border=\"1\" class=\"dataframe\">\n",
       "  <thead>\n",
       "    <tr style=\"text-align: right;\">\n",
       "      <th></th>\n",
       "      <th>PassengerId</th>\n",
       "      <th>Survived</th>\n",
       "      <th>Pclass</th>\n",
       "      <th>Name</th>\n",
       "      <th>Sex</th>\n",
       "      <th>Age</th>\n",
       "      <th>SibSp</th>\n",
       "      <th>Parch</th>\n",
       "      <th>Ticket</th>\n",
       "      <th>Fare</th>\n",
       "      <th>Cabin</th>\n",
       "      <th>Embarked</th>\n",
       "    </tr>\n",
       "    <tr>\n",
       "      <th>Passengerld</th>\n",
       "      <th></th>\n",
       "      <th></th>\n",
       "      <th></th>\n",
       "      <th></th>\n",
       "      <th></th>\n",
       "      <th></th>\n",
       "      <th></th>\n",
       "      <th></th>\n",
       "      <th></th>\n",
       "      <th></th>\n",
       "      <th></th>\n",
       "      <th></th>\n",
       "    </tr>\n",
       "  </thead>\n",
       "  <tbody>\n",
       "    <tr>\n",
       "      <th>886</th>\n",
       "      <td>887</td>\n",
       "      <td>0</td>\n",
       "      <td>2</td>\n",
       "      <td>Montvila, Rev. Juozas</td>\n",
       "      <td>1</td>\n",
       "      <td>27.000000</td>\n",
       "      <td>0</td>\n",
       "      <td>0</td>\n",
       "      <td>211536</td>\n",
       "      <td>13.00</td>\n",
       "      <td>not specified</td>\n",
       "      <td>S</td>\n",
       "    </tr>\n",
       "    <tr>\n",
       "      <th>887</th>\n",
       "      <td>888</td>\n",
       "      <td>1</td>\n",
       "      <td>1</td>\n",
       "      <td>Graham, Miss. Margaret Edith</td>\n",
       "      <td>0</td>\n",
       "      <td>19.000000</td>\n",
       "      <td>0</td>\n",
       "      <td>0</td>\n",
       "      <td>112053</td>\n",
       "      <td>30.00</td>\n",
       "      <td>B42</td>\n",
       "      <td>S</td>\n",
       "    </tr>\n",
       "    <tr>\n",
       "      <th>888</th>\n",
       "      <td>889</td>\n",
       "      <td>0</td>\n",
       "      <td>3</td>\n",
       "      <td>Johnston, Miss. Catherine Helen \"Carrie\"</td>\n",
       "      <td>0</td>\n",
       "      <td>29.699118</td>\n",
       "      <td>1</td>\n",
       "      <td>2</td>\n",
       "      <td>W./C. 6607</td>\n",
       "      <td>23.45</td>\n",
       "      <td>not specified</td>\n",
       "      <td>S</td>\n",
       "    </tr>\n",
       "    <tr>\n",
       "      <th>889</th>\n",
       "      <td>890</td>\n",
       "      <td>1</td>\n",
       "      <td>1</td>\n",
       "      <td>Behr, Mr. Karl Howell</td>\n",
       "      <td>1</td>\n",
       "      <td>26.000000</td>\n",
       "      <td>0</td>\n",
       "      <td>0</td>\n",
       "      <td>111369</td>\n",
       "      <td>30.00</td>\n",
       "      <td>C148</td>\n",
       "      <td>C</td>\n",
       "    </tr>\n",
       "    <tr>\n",
       "      <th>890</th>\n",
       "      <td>891</td>\n",
       "      <td>0</td>\n",
       "      <td>3</td>\n",
       "      <td>Dooley, Mr. Patrick</td>\n",
       "      <td>1</td>\n",
       "      <td>32.000000</td>\n",
       "      <td>0</td>\n",
       "      <td>0</td>\n",
       "      <td>370376</td>\n",
       "      <td>7.75</td>\n",
       "      <td>not specified</td>\n",
       "      <td>Q</td>\n",
       "    </tr>\n",
       "  </tbody>\n",
       "</table>\n",
       "</div>"
      ],
      "text/plain": [
       "             PassengerId  Survived  Pclass  \\\n",
       "Passengerld                                  \n",
       "886                  887         0       2   \n",
       "887                  888         1       1   \n",
       "888                  889         0       3   \n",
       "889                  890         1       1   \n",
       "890                  891         0       3   \n",
       "\n",
       "                                                 Name  Sex        Age  SibSp  \\\n",
       "Passengerld                                                                    \n",
       "886                             Montvila, Rev. Juozas    1  27.000000      0   \n",
       "887                      Graham, Miss. Margaret Edith    0  19.000000      0   \n",
       "888          Johnston, Miss. Catherine Helen \"Carrie\"    0  29.699118      1   \n",
       "889                             Behr, Mr. Karl Howell    1  26.000000      0   \n",
       "890                               Dooley, Mr. Patrick    1  32.000000      0   \n",
       "\n",
       "             Parch      Ticket   Fare          Cabin Embarked  \n",
       "Passengerld                                                    \n",
       "886              0      211536  13.00  not specified        S  \n",
       "887              0      112053  30.00            B42        S  \n",
       "888              2  W./C. 6607  23.45  not specified        S  \n",
       "889              0      111369  30.00           C148        C  \n",
       "890              0      370376   7.75  not specified        Q  "
      ]
     },
     "execution_count": 19,
     "metadata": {},
     "output_type": "execute_result"
    }
   ],
   "source": [
    "df.tail()"
   ]
  },
  {
   "cell_type": "markdown",
   "id": "6ea64f2c",
   "metadata": {},
   "source": [
    "#### Handling outliers"
   ]
  },
  {
   "cell_type": "code",
   "execution_count": 20,
   "id": "0d6d5fdc",
   "metadata": {},
   "outputs": [
    {
     "data": {
      "text/plain": [
       "{'whiskers': [<matplotlib.lines.Line2D at 0x24fecda3520>,\n",
       "  <matplotlib.lines.Line2D at 0x24fecda37f0>],\n",
       " 'caps': [<matplotlib.lines.Line2D at 0x24fecda3b80>,\n",
       "  <matplotlib.lines.Line2D at 0x24fecda3d90>],\n",
       " 'boxes': [<matplotlib.lines.Line2D at 0x24fecda3250>],\n",
       " 'medians': [<matplotlib.lines.Line2D at 0x24fecdb30a0>],\n",
       " 'fliers': [<matplotlib.lines.Line2D at 0x24fecdb3370>],\n",
       " 'means': []}"
      ]
     },
     "execution_count": 20,
     "metadata": {},
     "output_type": "execute_result"
    },
    {
     "data": {
      "image/png": "[encoded data removed]",
      "text/plain": [
       "<Figure size 432x288 with 1 Axes>"
      ]
     },
     "metadata": {
      "needs_background": "light"
     },
     "output_type": "display_data"
    }
   ],
   "source": [
    "plt.boxplot(df['Age'])"
   ]
  },
  {
   "cell_type": "code",
   "execution_count": 46,
   "id": "c26b65f1",
   "metadata": {},
   "outputs": [
    {
     "name": "stdout",
     "output_type": "stream",
     "text": [
      "23.0\n",
      "29.69911764705882\n",
      "32.0\n",
      "9.5\n",
      "45.5\n"
     ]
    }
   ],
   "source": [
    "Q1=np.percentile(df['Age'],25,interpolation='midpoint')\n",
    "Q2=np.percentile(df['Age'],50,interpolation='midpoint')\n",
    "Q3=np.percentile(df['Age'],75,interpolation='midpoint')\n",
    "print(Q1)\n",
    "print(Q2)\n",
    "print(Q3)\n",
    "IQR=Q3-Q1\n",
    "low_lim=Q1-1.5*IQR\n",
    "up_lim=Q3+1.5*IQR\n",
    "print(low_lim)\n",
    "print(up_lim)"
   ]
  },
  {
   "cell_type": "code",
   "execution_count": 47,
   "id": "5c2f6e27",
   "metadata": {},
   "outputs": [
    {
     "data": {
      "text/plain": [
       "[8.0,\n",
       " 7.0,\n",
       " 46.0,\n",
       " 47.0,\n",
       " 47.0,\n",
       " 9.0,\n",
       " 9.0,\n",
       " 9.0,\n",
       " 8.0,\n",
       " 7.0,\n",
       " 46.0,\n",
       " 48.0,\n",
       " 47.0,\n",
       " 48.0,\n",
       " 9.0,\n",
       " 9.0,\n",
       " 47.0,\n",
       " 7.0,\n",
       " 9.0,\n",
       " 8.0,\n",
       " 48.0,\n",
       " 47.0,\n",
       " 47.0,\n",
       " 9.0,\n",
       " 48.0,\n",
       " 47.0,\n",
       " 48.0,\n",
       " 48.0,\n",
       " 48.0,\n",
       " 48.0,\n",
       " 8.0,\n",
       " 46.0,\n",
       " 9.0,\n",
       " 48.0,\n",
       " 47.0,\n",
       " 47.0]"
      ]
     },
     "execution_count": 47,
     "metadata": {},
     "output_type": "execute_result"
    }
   ],
   "source": [
    "#Outlier detection\n",
    "\n",
    "outlier=[]                        #Initializes an empty list called 'outlier' to store the potential outliers.    \n",
    "for x in df['Age']:               #Iterates over each value in the 'Age' column.\n",
    "    if((x>up_lim) or(x<low_lim)): #Checks if the value, denoted by x, is greater than the upper limit (up_lim) or less than the lower limit (low_lim)\n",
    "        outlier.append(x)         #if the condition is met, the value x is appended to the 'outlier' list.\n",
    "outlier"
   ]
  },
  {
   "cell_type": "code",
   "execution_count": 48,
   "id": "65be918f",
   "metadata": {},
   "outputs": [
    {
     "data": {
      "text/plain": [
       "Int64Index([24, 50, 147, 165, 182, 237, 278, 480, 489, 535, 541, 549, 634, 787,\n",
       "            852],\n",
       "           dtype='int64', name='Passengerld')"
      ]
     },
     "execution_count": 48,
     "metadata": {},
     "output_type": "execute_result"
    }
   ],
   "source": [
    "ind=df['Age']<low_lim\n",
    "df.loc[ind].index"
   ]
  },
  {
   "cell_type": "code",
   "execution_count": 49,
   "id": "25e40e0c",
   "metadata": {},
   "outputs": [
    {
     "data": {
      "text/plain": [
       "Int64Index([ 92, 110, 132, 397, 460, 462, 463, 515, 556, 586, 592, 645, 662,\n",
       "            712, 736, 754, 771, 789, 862, 871, 873],\n",
       "           dtype='int64', name='Passengerld')"
      ]
     },
     "execution_count": 49,
     "metadata": {},
     "output_type": "execute_result"
    }
   ],
   "source": [
    "ind1=df['Age']>up_lim\n",
    "df.loc[ind1].index"
   ]
  },
  {
   "cell_type": "code",
   "execution_count": 50,
   "id": "b7b6ea76",
   "metadata": {},
   "outputs": [],
   "source": [
    "condition = (df['Age'] < low_lim) | (df['Age'] > up_lim)\n",
    "outlier_indices = df[condition].index\n"
   ]
  },
  {
   "cell_type": "code",
   "execution_count": 51,
   "id": "d927116f",
   "metadata": {},
   "outputs": [
    {
     "name": "stdout",
     "output_type": "stream",
     "text": [
      "Int64Index([ 24,  50,  92, 110, 132, 147, 165, 182, 237, 278, 397, 460, 462,\n",
      "            463, 480, 489, 515, 535, 541, 549, 556, 586, 592, 634, 645, 662,\n",
      "            712, 736, 754, 771, 787, 789, 852, 862, 871, 873],\n",
      "           dtype='int64', name='Passengerld')\n"
     ]
    }
   ],
   "source": [
    "print(outlier_indices)\n"
   ]
  },
  {
   "cell_type": "code",
   "execution_count": 53,
   "id": "6d9c3a64",
   "metadata": {},
   "outputs": [],
   "source": [
    "df.drop([24,  50,  92, 110, 132, 147, 165, 182, 237, 278, 397, 460, 462,\n",
    "            463, 480, 489, 515, 535, 541, 549, 556, 586, 592, 634, 645, 662,\n",
    "            712, 736, 754, 771, 787, 789, 852, 862, 871, 873],inplace=True)"
   ]
  },
  {
   "cell_type": "code",
   "execution_count": 54,
   "id": "37395d8a",
   "metadata": {},
   "outputs": [
    {
     "data": {
      "text/plain": [
       "{'whiskers': [<matplotlib.lines.Line2D at 0x24ff2bb4340>,\n",
       "  <matplotlib.lines.Line2D at 0x24ff2bb4610>],\n",
       " 'caps': [<matplotlib.lines.Line2D at 0x24ff2bb48e0>,\n",
       "  <matplotlib.lines.Line2D at 0x24ff2bb4bb0>],\n",
       " 'boxes': [<matplotlib.lines.Line2D at 0x24ff2bb4070>],\n",
       " 'medians': [<matplotlib.lines.Line2D at 0x24ff2bb4e80>],\n",
       " 'fliers': [<matplotlib.lines.Line2D at 0x24ff2bbe190>],\n",
       " 'means': []}"
      ]
     },
     "execution_count": 54,
     "metadata": {},
     "output_type": "execute_result"
    },
    {
     "data": {
      "image/png": "[encoded data removed]",
      "text/plain": [
       "<Figure size 432x288 with 1 Axes>"
      ]
     },
     "metadata": {
      "needs_background": "light"
     },
     "output_type": "display_data"
    }
   ],
   "source": [
    "plt.boxplot(df['Age'])"
   ]
  },
  {
   "cell_type": "code",
   "execution_count": 55,
   "id": "645842dc",
   "metadata": {},
   "outputs": [
    {
     "data": {
      "text/plain": [
       "{'whiskers': [<matplotlib.lines.Line2D at 0x24ff2bd9fa0>,\n",
       "  <matplotlib.lines.Line2D at 0x24ff2be42b0>],\n",
       " 'caps': [<matplotlib.lines.Line2D at 0x24ff2be4580>,\n",
       "  <matplotlib.lines.Line2D at 0x24ff2be4850>],\n",
       " 'boxes': [<matplotlib.lines.Line2D at 0x24ff2bcdb50>],\n",
       " 'medians': [<matplotlib.lines.Line2D at 0x24ff2be4b20>],\n",
       " 'fliers': [<matplotlib.lines.Line2D at 0x24ff2be4df0>],\n",
       " 'means': []}"
      ]
     },
     "execution_count": 55,
     "metadata": {},
     "output_type": "execute_result"
    },
    {
     "data": {
      "image/png": "[encoded data removed]",
      "text/plain": [
       "<Figure size 432x288 with 1 Axes>"
      ]
     },
     "metadata": {
      "needs_background": "light"
     },
     "output_type": "display_data"
    }
   ],
   "source": [
    "plt.boxplot(df['SibSp'])"
   ]
  },
  {
   "cell_type": "code",
   "execution_count": 56,
   "id": "0f7701a3",
   "metadata": {},
   "outputs": [
    {
     "name": "stdout",
     "output_type": "stream",
     "text": [
      "0.0\n",
      "0.0\n",
      "1.0\n",
      "-1.5\n",
      "2.5\n"
     ]
    }
   ],
   "source": [
    "Q1=np.percentile(df['SibSp'],25,interpolation='midpoint')\n",
    "Q2=np.percentile(df['SibSp'],50,interpolation='midpoint')\n",
    "Q3=np.percentile(df['SibSp'],75,interpolation='midpoint')\n",
    "print(Q1)\n",
    "print(Q2)\n",
    "print(Q3)\n",
    "IQR=Q3-Q1\n",
    "low_lim=Q1-1.5*IQR\n",
    "up_lim=Q3+1.5*IQR\n",
    "print(low_lim)\n",
    "print(up_lim)"
   ]
  },
  {
   "cell_type": "code",
   "execution_count": 57,
   "id": "92b385d8",
   "metadata": {},
   "outputs": [
    {
     "data": {
      "text/plain": [
       "[3, 5, 4, 5, 3, 3, 8, 3, 8, 8, 3, 4, 8, 3, 3, 3, 4, 5, 4, 3, 8, 3, 8, 8]"
      ]
     },
     "execution_count": 57,
     "metadata": {},
     "output_type": "execute_result"
    }
   ],
   "source": [
    "outlier=[]\n",
    "for x in df['SibSp']:\n",
    "    if((x>up_lim) or(x<low_lim)):\n",
    "        outlier.append(x)\n",
    "outlier"
   ]
  },
  {
   "cell_type": "code",
   "execution_count": 58,
   "id": "a7fc576c",
   "metadata": {},
   "outputs": [
    {
     "data": {
      "text/plain": [
       "Int64Index([ 27,  59,  68,  71,  85,  88, 159, 176, 180, 201, 229, 266, 324,\n",
       "            341, 409, 485, 542, 683, 686, 726, 792, 819, 846, 863],\n",
       "           dtype='int64', name='Passengerld')"
      ]
     },
     "execution_count": 58,
     "metadata": {},
     "output_type": "execute_result"
    }
   ],
   "source": [
    "ind1=df['SibSp']>up_lim\n",
    "df.loc[ind1].index"
   ]
  },
  {
   "cell_type": "code",
   "execution_count": 61,
   "id": "d7981942",
   "metadata": {},
   "outputs": [],
   "source": [
    "condition = (df['SibSp'] < low_lim) | (df['SibSp'] > up_lim)\n",
    "outlier_indices = df[condition].index\n"
   ]
  },
  {
   "cell_type": "code",
   "execution_count": 62,
   "id": "158b22bb",
   "metadata": {},
   "outputs": [
    {
     "name": "stdout",
     "output_type": "stream",
     "text": [
      "Int64Index([ 27,  59,  68,  71,  85,  88, 159, 176, 180, 201, 229, 266, 324,\n",
      "            341, 409, 485, 542, 683, 686, 726, 792, 819, 846, 863],\n",
      "           dtype='int64', name='Passengerld')\n"
     ]
    }
   ],
   "source": [
    "print(outlier_indices)\n"
   ]
  },
  {
   "cell_type": "code",
   "execution_count": 63,
   "id": "7e48f974",
   "metadata": {},
   "outputs": [],
   "source": [
    "df.drop([  27,  59,  68,  71,  85,  88, 159, 176, 180, 201, 229, 266, 324,\n",
    "            341, 409, 485, 542, 683, 686, 726, 792, 819, 846, 863 ],inplace=True)"
   ]
  },
  {
   "cell_type": "code",
   "execution_count": 64,
   "id": "b3fe0e6f",
   "metadata": {},
   "outputs": [
    {
     "data": {
      "text/plain": [
       "{'whiskers': [<matplotlib.lines.Line2D at 0x24ff2c43940>,\n",
       "  <matplotlib.lines.Line2D at 0x24ff2c43c10>],\n",
       " 'caps': [<matplotlib.lines.Line2D at 0x24ff2c43ee0>,\n",
       "  <matplotlib.lines.Line2D at 0x24ff2c4f1f0>],\n",
       " 'boxes': [<matplotlib.lines.Line2D at 0x24ff2c43790>],\n",
       " 'medians': [<matplotlib.lines.Line2D at 0x24ff2c4f4c0>],\n",
       " 'fliers': [<matplotlib.lines.Line2D at 0x24ff2c4f790>],\n",
       " 'means': []}"
      ]
     },
     "execution_count": 64,
     "metadata": {},
     "output_type": "execute_result"
    },
    {
     "data": {
      "image/png": "[encoded data removed]",
      "text/plain": [
       "<Figure size 432x288 with 1 Axes>"
      ]
     },
     "metadata": {
      "needs_background": "light"
     },
     "output_type": "display_data"
    }
   ],
   "source": [
    "plt.boxplot(df['SibSp'])"
   ]
  },
  {
   "cell_type": "code",
   "execution_count": 65,
   "id": "77dcfd41",
   "metadata": {},
   "outputs": [
    {
     "data": {
      "text/plain": [
       "{'whiskers': [<matplotlib.lines.Line2D at 0x24ff2caf490>,\n",
       "  <matplotlib.lines.Line2D at 0x24ff2caf760>],\n",
       " 'caps': [<matplotlib.lines.Line2D at 0x24ff2cafa30>,\n",
       "  <matplotlib.lines.Line2D at 0x24ff2cafd00>],\n",
       " 'boxes': [<matplotlib.lines.Line2D at 0x24ff2caf2e0>],\n",
       " 'medians': [<matplotlib.lines.Line2D at 0x24ff2caffd0>],\n",
       " 'fliers': [<matplotlib.lines.Line2D at 0x24ff2cbc2e0>],\n",
       " 'means': []}"
      ]
     },
     "execution_count": 65,
     "metadata": {},
     "output_type": "execute_result"
    },
    {
     "data": {
      "image/png": "[encoded data removed]",
      "text/plain": [
       "<Figure size 432x288 with 1 Axes>"
      ]
     },
     "metadata": {
      "needs_background": "light"
     },
     "output_type": "display_data"
    }
   ],
   "source": [
    "plt.boxplot(df['Fare'])"
   ]
  },
  {
   "cell_type": "code",
   "execution_count": 155,
   "id": "1cf0e23f",
   "metadata": {},
   "outputs": [
    {
     "name": "stdout",
     "output_type": "stream",
     "text": [
      "7.739599999999999\n",
      "7.8542\n",
      "7.925\n",
      "7.554199999999999\n",
      "8.1104\n"
     ]
    }
   ],
   "source": [
    "Q1=np.percentile(df['Fare'],25,interpolation='midpoint')\n",
    "Q2=np.percentile(df['Fare'],50,interpolation='midpoint')\n",
    "Q3=np.percentile(df['Fare'],75,interpolation='midpoint')\n",
    "print(Q1)\n",
    "print(Q2)\n",
    "print(Q3)\n",
    "IQR=Q3-Q1\n",
    "low_lim=Q1-1.0*IQR\n",
    "up_lim=Q3+1.0*IQR\n",
    "print(low_lim)\n",
    "print(up_lim)"
   ]
  },
  {
   "cell_type": "code",
   "execution_count": 156,
   "id": "a5a53522",
   "metadata": {},
   "outputs": [
    {
     "data": {
      "text/plain": [
       "[7.25,\n",
       " 8.4583,\n",
       " 7.225,\n",
       " 7.225,\n",
       " 7.2292,\n",
       " 7.2292,\n",
       " 7.2292,\n",
       " 8.1583,\n",
       " 8.6625,\n",
       " 8.6542,\n",
       " 7.1417,\n",
       " 7.3125,\n",
       " 8.6625,\n",
       " 8.6625,\n",
       " 8.4042,\n",
       " 7.225,\n",
       " 7.25,\n",
       " 7.25,\n",
       " 7.55,\n",
       " 7.125,\n",
       " 7.225,\n",
       " 7.25,\n",
       " 8.6625,\n",
       " 7.2292,\n",
       " 7.25,\n",
       " 8.6625,\n",
       " 7.2292,\n",
       " 7.225,\n",
       " 7.25,\n",
       " 7.2292,\n",
       " 7.25,\n",
       " 8.6625,\n",
       " 7.25,\n",
       " 7.125,\n",
       " 8.1125,\n",
       " 7.25,\n",
       " 8.6625,\n",
       " 7.5208,\n",
       " 7.25,\n",
       " 8.6625,\n",
       " 7.4958,\n",
       " 7.225,\n",
       " 7.2292,\n",
       " 7.2292,\n",
       " 7.2292,\n",
       " 8.6625,\n",
       " 7.225,\n",
       " 7.2292,\n",
       " 7.125,\n",
       " 7.225,\n",
       " 7.55,\n",
       " 7.55,\n",
       " 8.4333,\n",
       " 7.225,\n",
       " 7.4958,\n",
       " 8.1375,\n",
       " 7.225,\n",
       " 8.6625,\n",
       " 7.125,\n",
       " 7.2292,\n",
       " 8.3625,\n",
       " 7.225,\n",
       " 7.2292,\n",
       " 7.25,\n",
       " 7.4958,\n",
       " 7.2292,\n",
       " 8.6625,\n",
       " 7.2292,\n",
       " 8.3,\n",
       " 8.6625,\n",
       " 8.6625,\n",
       " 7.55,\n",
       " 7.2292,\n",
       " 7.225]"
      ]
     },
     "execution_count": 156,
     "metadata": {},
     "output_type": "execute_result"
    }
   ],
   "source": [
    "outlier=[]\n",
    "for x in df['Fare']:\n",
    "    if((x>up_lim) or(x<low_lim)):\n",
    "        outlier.append(x)\n",
    "outlier"
   ]
  },
  {
   "cell_type": "code",
   "execution_count": 157,
   "id": "0c42cf1b",
   "metadata": {},
   "outputs": [
    {
     "data": {
      "text/plain": [
       "Int64Index([  0,  19,  26,  36,  57,  60, 127, 154, 203, 212, 227, 235, 243,\n",
       "            244, 250, 296, 320, 352, 354, 365, 367, 376, 425, 433, 470, 478,\n",
       "            491, 514, 522, 524, 531, 532, 553, 568, 590, 598, 648, 649, 661,\n",
       "            663, 693, 761, 762, 773, 780, 785, 786, 798, 832, 845, 859, 875],\n",
       "           dtype='int64', name='Passengerld')"
      ]
     },
     "execution_count": 157,
     "metadata": {},
     "output_type": "execute_result"
    }
   ],
   "source": [
    "ind=df['Fare']<low_lim\n",
    "df.loc[ind].index"
   ]
  },
  {
   "cell_type": "code",
   "execution_count": 158,
   "id": "a7c76157",
   "metadata": {},
   "outputs": [
    {
     "data": {
      "text/plain": [
       "Int64Index([  5,  67,  69, 103, 158, 163, 197, 285, 349, 404, 444, 471, 500,\n",
       "            534, 652, 680, 725, 769, 821, 834, 836, 844],\n",
       "           dtype='int64', name='Passengerld')"
      ]
     },
     "execution_count": 158,
     "metadata": {},
     "output_type": "execute_result"
    }
   ],
   "source": [
    "ind1=df['Fare']>up_lim\n",
    "df.loc[ind1].index"
   ]
  },
  {
   "cell_type": "code",
   "execution_count": 159,
   "id": "3192e13c",
   "metadata": {},
   "outputs": [],
   "source": [
    "condition = (df['Fare'] < low_lim) | (df['Fare'] > up_lim)\n",
    "outlier_indices = df[condition].index\n"
   ]
  },
  {
   "cell_type": "code",
   "execution_count": 160,
   "id": "28394ff0",
   "metadata": {},
   "outputs": [
    {
     "name": "stdout",
     "output_type": "stream",
     "text": [
      "Int64Index([  0,   5,  19,  26,  36,  57,  60,  67,  69, 103, 127, 154, 158,\n",
      "            163, 197, 203, 212, 227, 235, 243, 244, 250, 285, 296, 320, 349,\n",
      "            352, 354, 365, 367, 376, 404, 425, 433, 444, 470, 471, 478, 491,\n",
      "            500, 514, 522, 524, 531, 532, 534, 553, 568, 590, 598, 648, 649,\n",
      "            652, 661, 663, 680, 693, 725, 761, 762, 769, 773, 780, 785, 786,\n",
      "            798, 821, 832, 834, 836, 844, 845, 859, 875],\n",
      "           dtype='int64', name='Passengerld')\n"
     ]
    }
   ],
   "source": [
    "print(outlier_indices)"
   ]
  },
  {
   "cell_type": "code",
   "execution_count": 161,
   "id": "8f9aa5d8",
   "metadata": {},
   "outputs": [],
   "source": [
    "df.drop([0,   5,  19,  26,  36,  57,  60,  67,  69, 103, 127, 154, 158,\n",
    "            163, 197, 203, 212, 227, 235, 243, 244, 250, 285, 296, 320, 349,\n",
    "            352, 354, 365, 367, 376, 404, 425, 433, 444, 470, 471, 478, 491,\n",
    "            500, 514, 522, 524, 531, 532, 534, 553, 568, 590, 598, 648, 649,\n",
    "            652, 661, 663, 680, 693, 725, 761, 762, 769, 773, 780, 785, 786,\n",
    "            798, 821, 832, 834, 836, 844, 845, 859, 875],inplace=True)"
   ]
  },
  {
   "cell_type": "code",
   "execution_count": 162,
   "id": "9be47c40",
   "metadata": {},
   "outputs": [
    {
     "data": {
      "text/plain": [
       "{'whiskers': [<matplotlib.lines.Line2D at 0x24ff421e820>,\n",
       "  <matplotlib.lines.Line2D at 0x24ff421eaf0>],\n",
       " 'caps': [<matplotlib.lines.Line2D at 0x24ff421edc0>,\n",
       "  <matplotlib.lines.Line2D at 0x24ff422a0d0>],\n",
       " 'boxes': [<matplotlib.lines.Line2D at 0x24ff4212340>],\n",
       " 'medians': [<matplotlib.lines.Line2D at 0x24ff422a3a0>],\n",
       " 'fliers': [<matplotlib.lines.Line2D at 0x24ff422a670>],\n",
       " 'means': []}"
      ]
     },
     "execution_count": 162,
     "metadata": {},
     "output_type": "execute_result"
    },
    {
     "data": {
      "image/png": "[encoded data removed]",
      "text/plain": [
       "<Figure size 432x288 with 1 Axes>"
      ]
     },
     "metadata": {
      "needs_background": "light"
     },
     "output_type": "display_data"
    }
   ],
   "source": [
    "plt.boxplot(df['Fare'])"
   ]
  },
  {
   "cell_type": "markdown",
   "id": "0a707875",
   "metadata": {},
   "source": [
    "### Data Visualization"
   ]
  },
  {
   "cell_type": "code",
   "execution_count": 163,
   "id": "9c67e64a",
   "metadata": {},
   "outputs": [
    {
     "data": {
      "text/plain": [
       "<matplotlib.legend.Legend at 0x24ff3154160>"
      ]
     },
     "execution_count": 163,
     "metadata": {},
     "output_type": "execute_result"
    },
    {
     "data": {
      "image/png": "[encoded data removed]",
      "text/plain": [
       "<Figure size 720x504 with 1 Axes>"
      ]
     },
     "metadata": {
      "needs_background": "light"
     },
     "output_type": "display_data"
    }
   ],
   "source": [
    "fig = plt.figure(figsize =(10, 7))\n",
    "plt.hist(x = [df[df['Survived']==1]['Age'], df[df['Survived']==0]['Age']],stacked=True, color = ['b','r'],label = ['Survived','Not survived'])\n",
    "plt.title('Age Histogram with Survival')\n",
    "plt.xlabel('Age')\n",
    "plt.ylabel('No of passengers')\n",
    "plt.legend()"
   ]
  },
  {
   "cell_type": "markdown",
   "id": "1b768983",
   "metadata": {},
   "source": [
    "#### Insight \n",
    "\n",
    "Most of the survived passengers are aged between 15 to 35."
   ]
  },
  {
   "cell_type": "code",
   "execution_count": 164,
   "id": "16d40cde",
   "metadata": {},
   "outputs": [
    {
     "name": "stderr",
     "output_type": "stream",
     "text": [
      "C:\\Users\\aswat\\anaconda3\\lib\\site-packages\\seaborn\\_decorators.py:36: FutureWarning: Pass the following variable as a keyword arg: x. From version 0.12, the only valid positional argument will be `data`, and passing other arguments without an explicit keyword will result in an error or misinterpretation.\n",
      "  warnings.warn(\n"
     ]
    },
    {
     "data": {
      "text/plain": [
       "<AxesSubplot:xlabel='Survived', ylabel='count'>"
      ]
     },
     "execution_count": 164,
     "metadata": {},
     "output_type": "execute_result"
    },
    {
     "data": {
      "image/png": "[encoded data removed]",
      "text/plain": [
       "<Figure size 432x288 with 1 Axes>"
      ]
     },
     "metadata": {
      "needs_background": "light"
     },
     "output_type": "display_data"
    }
   ],
   "source": [
    "sns.countplot(df.Survived)"
   ]
  },
  {
   "cell_type": "markdown",
   "id": "a5dde834",
   "metadata": {},
   "source": [
    "#### Insight\n",
    "\n",
    "There are 549 individuals in the dataset who did not survive (Survived = 0) and 342 individuals who survived (Survived = 1)."
   ]
  },
  {
   "cell_type": "code",
   "execution_count": 165,
   "id": "be6a8f31",
   "metadata": {},
   "outputs": [
    {
     "data": {
      "text/plain": [
       "<function matplotlib.pyplot.show(close=None, block=None)>"
      ]
     },
     "execution_count": 165,
     "metadata": {},
     "output_type": "execute_result"
    },
    {
     "data": {
      "image/png": "[encoded data removed]",
      "text/plain": [
       "<Figure size 432x288 with 2 Axes>"
      ]
     },
     "metadata": {
      "needs_background": "light"
     },
     "output_type": "display_data"
    }
   ],
   "source": [
    "sns.heatmap(df.corr(),annot=True)\n",
    "plt.show"
   ]
  },
  {
   "cell_type": "code",
   "execution_count": 232,
   "id": "c7726ed1",
   "metadata": {},
   "outputs": [
    {
     "data": {
      "image/png": "[encoded data removed]",
      "text/plain": [
       "<Figure size 1440x1080 with 9 Axes>"
      ]
     },
     "metadata": {
      "needs_background": "light"
     },
     "output_type": "display_data"
    }
   ],
   "source": [
    "freqgraph=df.select_dtypes(include=['float','int64','object'])\n",
    "freqgraph.hist(figsize=(20,15))\n",
    "plt.show()"
   ]
  },
  {
   "cell_type": "markdown",
   "id": "e70456af",
   "metadata": {},
   "source": [
    "#### Insight\n",
    "\n",
    "All the data following right skewed (positive)distribution.Skewness tells us the direction of outliers. In a positive skew, the tail of a distribution curve is longer on the right side. This means the outliers of the distribution curve are further out towards the right and closer to the mean on the left."
   ]
  },
  {
   "cell_type": "markdown",
   "id": "47538d8e",
   "metadata": {},
   "source": [
    "#### Do min max scaling on the feature set (Take ‘Survived’ as target)"
   ]
  },
  {
   "cell_type": "code",
   "execution_count": 168,
   "id": "7de3f3e6",
   "metadata": {},
   "outputs": [
    {
     "data": {
      "text/plain": [
       "Index(['PassengerId', 'Survived', 'Pclass', 'Name', 'Sex', 'Age', 'SibSp',\n",
       "       'Parch', 'Ticket', 'Fare', 'Cabin', 'Embarked'],\n",
       "      dtype='object')"
      ]
     },
     "execution_count": 168,
     "metadata": {},
     "output_type": "execute_result"
    }
   ],
   "source": [
    "df.columns"
   ]
  },
  {
   "cell_type": "code",
   "execution_count": 176,
   "id": "5c8fccf2",
   "metadata": {},
   "outputs": [],
   "source": [
    "df.drop('Name',axis=1,inplace=True)"
   ]
  },
  {
   "cell_type": "code",
   "execution_count": 177,
   "id": "9b3dadea",
   "metadata": {},
   "outputs": [],
   "source": [
    "df.drop('Ticket',axis=1,inplace=True)"
   ]
  },
  {
   "cell_type": "code",
   "execution_count": 178,
   "id": "c18cbe6f",
   "metadata": {},
   "outputs": [],
   "source": [
    "df=pd.get_dummies(df)"
   ]
  },
  {
   "cell_type": "code",
   "execution_count": 179,
   "id": "83c907b5",
   "metadata": {},
   "outputs": [
    {
     "data": {
      "text/html": [
       "<div>\n",
       "<style scoped>\n",
       "    .dataframe tbody tr th:only-of-type {\n",
       "        vertical-align: middle;\n",
       "    }\n",
       "\n",
       "    .dataframe tbody tr th {\n",
       "        vertical-align: top;\n",
       "    }\n",
       "\n",
       "    .dataframe thead th {\n",
       "        text-align: right;\n",
       "    }\n",
       "</style>\n",
       "<table border=\"1\" class=\"dataframe\">\n",
       "  <thead>\n",
       "    <tr style=\"text-align: right;\">\n",
       "      <th></th>\n",
       "      <th>PassengerId</th>\n",
       "      <th>Survived</th>\n",
       "      <th>Pclass</th>\n",
       "      <th>Sex</th>\n",
       "      <th>Age</th>\n",
       "      <th>SibSp</th>\n",
       "      <th>Parch</th>\n",
       "      <th>Fare</th>\n",
       "      <th>Cabin_E10</th>\n",
       "      <th>Cabin_F G63</th>\n",
       "      <th>Cabin_F G73</th>\n",
       "      <th>Cabin_F38</th>\n",
       "      <th>Cabin_not specified</th>\n",
       "      <th>Embarked_C</th>\n",
       "      <th>Embarked_Q</th>\n",
       "      <th>Embarked_S</th>\n",
       "    </tr>\n",
       "    <tr>\n",
       "      <th>Passengerld</th>\n",
       "      <th></th>\n",
       "      <th></th>\n",
       "      <th></th>\n",
       "      <th></th>\n",
       "      <th></th>\n",
       "      <th></th>\n",
       "      <th></th>\n",
       "      <th></th>\n",
       "      <th></th>\n",
       "      <th></th>\n",
       "      <th></th>\n",
       "      <th></th>\n",
       "      <th></th>\n",
       "      <th></th>\n",
       "      <th></th>\n",
       "      <th></th>\n",
       "    </tr>\n",
       "  </thead>\n",
       "  <tbody>\n",
       "    <tr>\n",
       "      <th>2</th>\n",
       "      <td>3</td>\n",
       "      <td>1</td>\n",
       "      <td>3</td>\n",
       "      <td>0</td>\n",
       "      <td>26.0</td>\n",
       "      <td>0</td>\n",
       "      <td>0</td>\n",
       "      <td>7.9250</td>\n",
       "      <td>0</td>\n",
       "      <td>0</td>\n",
       "      <td>0</td>\n",
       "      <td>0</td>\n",
       "      <td>1</td>\n",
       "      <td>0</td>\n",
       "      <td>0</td>\n",
       "      <td>1</td>\n",
       "    </tr>\n",
       "    <tr>\n",
       "      <th>4</th>\n",
       "      <td>5</td>\n",
       "      <td>0</td>\n",
       "      <td>3</td>\n",
       "      <td>1</td>\n",
       "      <td>35.0</td>\n",
       "      <td>0</td>\n",
       "      <td>0</td>\n",
       "      <td>8.0500</td>\n",
       "      <td>0</td>\n",
       "      <td>0</td>\n",
       "      <td>0</td>\n",
       "      <td>0</td>\n",
       "      <td>1</td>\n",
       "      <td>0</td>\n",
       "      <td>0</td>\n",
       "      <td>1</td>\n",
       "    </tr>\n",
       "    <tr>\n",
       "      <th>12</th>\n",
       "      <td>13</td>\n",
       "      <td>0</td>\n",
       "      <td>3</td>\n",
       "      <td>1</td>\n",
       "      <td>20.0</td>\n",
       "      <td>0</td>\n",
       "      <td>0</td>\n",
       "      <td>8.0500</td>\n",
       "      <td>0</td>\n",
       "      <td>0</td>\n",
       "      <td>0</td>\n",
       "      <td>0</td>\n",
       "      <td>1</td>\n",
       "      <td>0</td>\n",
       "      <td>0</td>\n",
       "      <td>1</td>\n",
       "    </tr>\n",
       "    <tr>\n",
       "      <th>14</th>\n",
       "      <td>15</td>\n",
       "      <td>0</td>\n",
       "      <td>3</td>\n",
       "      <td>0</td>\n",
       "      <td>14.0</td>\n",
       "      <td>0</td>\n",
       "      <td>0</td>\n",
       "      <td>7.8542</td>\n",
       "      <td>0</td>\n",
       "      <td>0</td>\n",
       "      <td>0</td>\n",
       "      <td>0</td>\n",
       "      <td>1</td>\n",
       "      <td>0</td>\n",
       "      <td>0</td>\n",
       "      <td>1</td>\n",
       "    </tr>\n",
       "    <tr>\n",
       "      <th>22</th>\n",
       "      <td>23</td>\n",
       "      <td>1</td>\n",
       "      <td>3</td>\n",
       "      <td>0</td>\n",
       "      <td>15.0</td>\n",
       "      <td>0</td>\n",
       "      <td>0</td>\n",
       "      <td>8.0292</td>\n",
       "      <td>0</td>\n",
       "      <td>0</td>\n",
       "      <td>0</td>\n",
       "      <td>0</td>\n",
       "      <td>1</td>\n",
       "      <td>0</td>\n",
       "      <td>1</td>\n",
       "      <td>0</td>\n",
       "    </tr>\n",
       "  </tbody>\n",
       "</table>\n",
       "</div>"
      ],
      "text/plain": [
       "             PassengerId  Survived  Pclass  Sex   Age  SibSp  Parch    Fare  \\\n",
       "Passengerld                                                                   \n",
       "2                      3         1       3    0  26.0      0      0  7.9250   \n",
       "4                      5         0       3    1  35.0      0      0  8.0500   \n",
       "12                    13         0       3    1  20.0      0      0  8.0500   \n",
       "14                    15         0       3    0  14.0      0      0  7.8542   \n",
       "22                    23         1       3    0  15.0      0      0  8.0292   \n",
       "\n",
       "             Cabin_E10  Cabin_F G63  Cabin_F G73  Cabin_F38  \\\n",
       "Passengerld                                                   \n",
       "2                    0            0            0          0   \n",
       "4                    0            0            0          0   \n",
       "12                   0            0            0          0   \n",
       "14                   0            0            0          0   \n",
       "22                   0            0            0          0   \n",
       "\n",
       "             Cabin_not specified  Embarked_C  Embarked_Q  Embarked_S  \n",
       "Passengerld                                                           \n",
       "2                              1           0           0           1  \n",
       "4                              1           0           0           1  \n",
       "12                             1           0           0           1  \n",
       "14                             1           0           0           1  \n",
       "22                             1           0           1           0  "
      ]
     },
     "execution_count": 179,
     "metadata": {},
     "output_type": "execute_result"
    }
   ],
   "source": [
    "df.head()"
   ]
  },
  {
   "cell_type": "code",
   "execution_count": 180,
   "id": "eac6309d",
   "metadata": {},
   "outputs": [],
   "source": [
    "x=df.drop(['Survived'],axis=1)\n",
    "y=df['Survived']\n"
   ]
  },
  {
   "cell_type": "markdown",
   "id": "d10bc0d1",
   "metadata": {},
   "source": [
    "### Find out which classification model gives the best result to predict iris species.(also do random forest algorithm)"
   ]
  },
  {
   "cell_type": "code",
   "execution_count": 181,
   "id": "a0e8f2f9",
   "metadata": {},
   "outputs": [],
   "source": [
    "from sklearn import preprocessing\n",
    "min_max= preprocessing.MinMaxScaler(feature_range=(0,1))"
   ]
  },
  {
   "cell_type": "code",
   "execution_count": 182,
   "id": "b46313bf",
   "metadata": {},
   "outputs": [],
   "source": [
    "x= min_max.fit_transform(x)"
   ]
  },
  {
   "cell_type": "code",
   "execution_count": 173,
   "id": "964291d8",
   "metadata": {},
   "outputs": [
    {
     "data": {
      "text/plain": [
       "(147, 11)"
      ]
     },
     "execution_count": 173,
     "metadata": {},
     "output_type": "execute_result"
    }
   ],
   "source": [
    "x_train.shape"
   ]
  },
  {
   "cell_type": "code",
   "execution_count": 174,
   "id": "ff5ec532",
   "metadata": {},
   "outputs": [
    {
     "data": {
      "text/plain": [
       "(37, 11)"
      ]
     },
     "execution_count": 174,
     "metadata": {},
     "output_type": "execute_result"
    }
   ],
   "source": [
    "x_test.shape"
   ]
  },
  {
   "cell_type": "markdown",
   "id": "8a838c78",
   "metadata": {},
   "source": [
    "#### Using MinMax Scaler"
   ]
  },
  {
   "cell_type": "code",
   "execution_count": 193,
   "id": "d141ec13",
   "metadata": {},
   "outputs": [],
   "source": [
    "from sklearn import preprocessing\n",
    "min_max= preprocessing.MinMaxScaler(feature_range=(0,1))\n",
    "x_test= min_max.fit_transform(x_test)\n",
    "x_train= min_max.fit_transform(x_train)\n",
    "x_train=pd.DataFrame(x_train)\n",
    "x_test=pd.DataFrame(x_test)"
   ]
  },
  {
   "cell_type": "markdown",
   "id": "85204a0d",
   "metadata": {},
   "source": [
    "#### Insight\n",
    "\n",
    "We use MinMax Scaler as it will preserve the shape of the dataset (no distortion) and since the distrubution is not normally distrubuted as seen from the Frequency plot."
   ]
  },
  {
   "cell_type": "markdown",
   "id": "7749f81e",
   "metadata": {},
   "source": [
    "### Building the model using RandomForestClassifier"
   ]
  },
  {
   "cell_type": "code",
   "execution_count": 194,
   "id": "e35065f1",
   "metadata": {},
   "outputs": [],
   "source": [
    "from sklearn.ensemble import RandomForestClassifier\n",
    "rf=RandomForestClassifier()\n",
    "rf.fit(x_train,y_train)\n",
    "y_pred=rf.predict(x_test)"
   ]
  },
  {
   "cell_type": "code",
   "execution_count": 201,
   "id": "6b39eda7",
   "metadata": {},
   "outputs": [],
   "source": [
    "import pandas as pd\n",
    "import numpy as np\n",
    "from sklearn.model_selection import train_test_split\n",
    "from sklearn.linear_model import LinearRegression\n",
    "from sklearn.metrics import mean_squared_error, r2_score, accuracy_score, precision_score, recall_score, f1_score, confusion_matrix\n"
   ]
  },
  {
   "cell_type": "code",
   "execution_count": 202,
   "id": "4f429285",
   "metadata": {},
   "outputs": [
    {
     "name": "stdout",
     "output_type": "stream",
     "text": [
      "Accuracy is: 0.8648648648648649\n",
      "Precision is: 0.8544226044226044\n",
      "Recall is: 0.8648648648648649\n",
      "F1 Score is: 0.8496548496548496\n"
     ]
    }
   ],
   "source": [
    "print(\"Accuracy is:\",accuracy_score(y_test,y_pred))\n",
    "print(\"Precision is:\",precision_score(y_test,y_pred,average='weighted'))\n",
    "print(\"Recall is:\",recall_score(y_test,y_pred,average='weighted'))\n",
    "print(\"F1 Score is:\",f1_score(y_test,y_pred,average='weighted'))"
   ]
  },
  {
   "cell_type": "code",
   "execution_count": 203,
   "id": "54cffc82",
   "metadata": {},
   "outputs": [
    {
     "data": {
      "text/plain": [
       "array([[29,  1],\n",
       "       [ 4,  3]], dtype=int64)"
      ]
     },
     "execution_count": 203,
     "metadata": {},
     "output_type": "execute_result"
    }
   ],
   "source": [
    "confusion_matrix(y_test,y_pred)"
   ]
  },
  {
   "cell_type": "markdown",
   "id": "af0ad360",
   "metadata": {},
   "source": [
    "### Building the model using Gradient Boosting"
   ]
  },
  {
   "cell_type": "code",
   "execution_count": 204,
   "id": "14c27d65",
   "metadata": {},
   "outputs": [],
   "source": [
    "from sklearn.ensemble import GradientBoostingClassifier\n",
    "gb=GradientBoostingClassifier()\n",
    "gb.fit(x_train,y_train)\n",
    "y_predict=gb.predict(x_test)"
   ]
  },
  {
   "cell_type": "code",
   "execution_count": 205,
   "id": "09681ef8",
   "metadata": {},
   "outputs": [
    {
     "name": "stdout",
     "output_type": "stream",
     "text": [
      "Accuracy is: 0.8918918918918919\n",
      "Precision is: 0.8861486486486487\n",
      "Recall is: 0.8918918918918919\n",
      "F1 Score is: 0.8846265620459167\n"
     ]
    }
   ],
   "source": [
    "print(\"Accuracy is:\",accuracy_score(y_test,y_predict))\n",
    "print(\"Precision is:\",precision_score(y_test,y_predict,average='weighted'))\n",
    "print(\"Recall is:\",recall_score(y_test,y_predict,average='weighted'))\n",
    "print(\"F1 Score is:\",f1_score(y_test,y_predict,average='weighted'))\n"
   ]
  },
  {
   "cell_type": "code",
   "execution_count": 206,
   "id": "691681cf",
   "metadata": {},
   "outputs": [
    {
     "data": {
      "text/plain": [
       "array([[29,  1],\n",
       "       [ 3,  4]], dtype=int64)"
      ]
     },
     "execution_count": 206,
     "metadata": {},
     "output_type": "execute_result"
    }
   ],
   "source": [
    "confusion_matrix(y_test,y_predict)"
   ]
  },
  {
   "cell_type": "markdown",
   "id": "8c73f987",
   "metadata": {},
   "source": [
    "### Building the model using Logistic regression"
   ]
  },
  {
   "cell_type": "code",
   "execution_count": 207,
   "id": "1635d8fd",
   "metadata": {},
   "outputs": [],
   "source": [
    "from sklearn.linear_model import LogisticRegression\n",
    "log_r=LogisticRegression()\n",
    "log_r.fit(x_train,y_train)\n",
    "y_preddd=log_r.predict(x_test)"
   ]
  },
  {
   "cell_type": "code",
   "execution_count": 208,
   "id": "ab4f0be5",
   "metadata": {},
   "outputs": [
    {
     "name": "stdout",
     "output_type": "stream",
     "text": [
      "Accuracy is: 0.8378378378378378\n",
      "Precision is: 0.8177000529941705\n",
      "Recall is: 0.8378378378378378\n",
      "F1 Score is: 0.8104729729729729\n"
     ]
    }
   ],
   "source": [
    "print(\"Accuracy is:\",accuracy_score(y_test,y_preddd))\n",
    "print(\"Precision is:\",precision_score(y_test,y_preddd,average='weighted'))\n",
    "print(\"Recall is:\",recall_score(y_test,y_preddd,average='weighted'))\n",
    "print(\"F1 Score is:\",f1_score(y_test,y_preddd,average='weighted'))"
   ]
  },
  {
   "cell_type": "code",
   "execution_count": 209,
   "id": "8722a96d",
   "metadata": {},
   "outputs": [
    {
     "data": {
      "text/plain": [
       "array([[29,  1],\n",
       "       [ 5,  2]], dtype=int64)"
      ]
     },
     "execution_count": 209,
     "metadata": {},
     "output_type": "execute_result"
    }
   ],
   "source": [
    "confusion_matrix(y_test,y_preddd)"
   ]
  },
  {
   "cell_type": "markdown",
   "id": "0c13f67f",
   "metadata": {},
   "source": [
    "### Building the model using KNN Model"
   ]
  },
  {
   "cell_type": "code",
   "execution_count": 210,
   "id": "47042972",
   "metadata": {},
   "outputs": [],
   "source": [
    "from sklearn.neighbors import KNeighborsClassifier\n",
    "acc_values=[]\n",
    "neighbors=np.arange(3,15)\n",
    "for k in neighbors:\n",
    "    classifier = KNeighborsClassifier(n_neighbors=k, metric='minkowski')\n",
    "    classifier.fit(x_train,y_train)\n",
    "    y_predic=classifier.predict(x_test)\n",
    "    acc=accuracy_score(y_test,y_predic)\n",
    "    acc_values.append(acc)"
   ]
  },
  {
   "cell_type": "code",
   "execution_count": 211,
   "id": "335927b6",
   "metadata": {},
   "outputs": [
    {
     "data": {
      "text/plain": [
       "[0.7837837837837838,\n",
       " 0.7837837837837838,\n",
       " 0.7837837837837838,\n",
       " 0.8108108108108109,\n",
       " 0.8378378378378378,\n",
       " 0.8378378378378378,\n",
       " 0.8378378378378378,\n",
       " 0.8108108108108109,\n",
       " 0.8108108108108109,\n",
       " 0.8108108108108109,\n",
       " 0.8108108108108109,\n",
       " 0.8108108108108109]"
      ]
     },
     "execution_count": 211,
     "metadata": {},
     "output_type": "execute_result"
    }
   ],
   "source": [
    "acc_values"
   ]
  },
  {
   "cell_type": "code",
   "execution_count": 212,
   "id": "f6fd6f6a",
   "metadata": {},
   "outputs": [
    {
     "data": {
      "text/plain": [
       "Text(0, 0.5, 'accuracy')"
      ]
     },
     "execution_count": 212,
     "metadata": {},
     "output_type": "execute_result"
    },
    {
     "data": {
      "image/png": "[encoded data removed]",
      "text/plain": [
       "<Figure size 432x288 with 1 Axes>"
      ]
     },
     "metadata": {
      "needs_background": "light"
     },
     "output_type": "display_data"
    }
   ],
   "source": [
    "plt.plot(neighbors,acc_values,'o-')\n",
    "plt.xlabel('k value')\n",
    "plt.ylabel('accuracy')"
   ]
  },
  {
   "cell_type": "code",
   "execution_count": 213,
   "id": "3679ae36",
   "metadata": {},
   "outputs": [],
   "source": [
    "classifier = KNeighborsClassifier(n_neighbors=6, metric='minkowski')\n",
    "classifier.fit(x_train,y_train)\n",
    "y_predic=classifier.predict(x_test)"
   ]
  },
  {
   "cell_type": "code",
   "execution_count": 214,
   "id": "72a85912",
   "metadata": {},
   "outputs": [
    {
     "name": "stdout",
     "output_type": "stream",
     "text": [
      "Accuracy is: 0.8108108108108109\n",
      "Precision is: 0.7664092664092664\n",
      "Recall is: 0.8108108108108109\n",
      "F1 Score is: 0.7655347655347655\n"
     ]
    }
   ],
   "source": [
    "print(\"Accuracy is:\",accuracy_score(y_test,y_predic))\n",
    "print(\"Precision is:\",precision_score(y_test,y_predic,average='weighted'))\n",
    "print(\"Recall is:\",recall_score(y_test,y_predic,average='weighted'))\n",
    "print(\"F1 Score is:\",f1_score(y_test,y_predic,average='weighted'))"
   ]
  },
  {
   "cell_type": "code",
   "execution_count": 215,
   "id": "e1c2ede2",
   "metadata": {},
   "outputs": [
    {
     "data": {
      "text/plain": [
       "array([[29,  1],\n",
       "       [ 6,  1]], dtype=int64)"
      ]
     },
     "execution_count": 215,
     "metadata": {},
     "output_type": "execute_result"
    }
   ],
   "source": [
    "confusion_matrix(y_test,y_predic)"
   ]
  },
  {
   "cell_type": "markdown",
   "id": "f2e202b5",
   "metadata": {},
   "source": [
    "### Building the model using Decision Tree Model"
   ]
  },
  {
   "cell_type": "code",
   "execution_count": 216,
   "id": "700cc584",
   "metadata": {},
   "outputs": [],
   "source": [
    "from sklearn.tree import DecisionTreeClassifier"
   ]
  },
  {
   "cell_type": "code",
   "execution_count": 217,
   "id": "22e1b0ed",
   "metadata": {},
   "outputs": [],
   "source": [
    "dt=DecisionTreeClassifier()\n",
    "dt.fit(x_train,y_train)\n",
    "y_pr=dt.predict(x_test)"
   ]
  },
  {
   "cell_type": "code",
   "execution_count": 218,
   "id": "fae22c89",
   "metadata": {},
   "outputs": [
    {
     "name": "stdout",
     "output_type": "stream",
     "text": [
      "Accuracy is: 0.8108108108108109\n",
      "Precision is: 0.7825552825552826\n",
      "Recall is: 0.8108108108108109\n",
      "F1 Score is: 0.7895167895167896\n"
     ]
    }
   ],
   "source": [
    "print(\"Accuracy is:\",accuracy_score(y_test,y_pr))\n",
    "print(\"Precision is:\",precision_score(y_test,y_pr,average='weighted'))\n",
    "print(\"Recall is:\",recall_score(y_test,y_pr,average='weighted'))\n",
    "print(\"F1 Score is:\",f1_score(y_test,y_pr,average='weighted'))"
   ]
  },
  {
   "cell_type": "code",
   "execution_count": 219,
   "id": "64ef025e",
   "metadata": {},
   "outputs": [
    {
     "data": {
      "text/plain": [
       "array([[28,  2],\n",
       "       [ 5,  2]], dtype=int64)"
      ]
     },
     "execution_count": 219,
     "metadata": {},
     "output_type": "execute_result"
    }
   ],
   "source": [
    "confusion_matrix(y_test,y_pr)"
   ]
  },
  {
   "cell_type": "markdown",
   "id": "5588527e",
   "metadata": {},
   "source": [
    "### Building the model using SVM Model"
   ]
  },
  {
   "cell_type": "code",
   "execution_count": 220,
   "id": "2d6f503a",
   "metadata": {},
   "outputs": [],
   "source": [
    "from sklearn.svm import SVC"
   ]
  },
  {
   "cell_type": "markdown",
   "id": "81d8d1f4",
   "metadata": {},
   "source": [
    "##### Linear SVM"
   ]
  },
  {
   "cell_type": "code",
   "execution_count": 221,
   "id": "1616e92d",
   "metadata": {},
   "outputs": [],
   "source": [
    "svm_linear=SVC(kernel='linear')\n",
    "svm_linear.fit(x_train,y_train)\n",
    "y_pre=svm_linear.predict(x_test)"
   ]
  },
  {
   "cell_type": "code",
   "execution_count": 222,
   "id": "5d0e3a9a",
   "metadata": {},
   "outputs": [
    {
     "name": "stdout",
     "output_type": "stream",
     "text": [
      "Accuracy is: 0.8108108108108109\n",
      "Precision is: 0.8007846556233653\n",
      "Recall is: 0.8108108108108109\n",
      "F1 Score is: 0.8050850345932314\n"
     ]
    }
   ],
   "source": [
    "print(\"Accuracy is:\",accuracy_score(y_test,y_pre))\n",
    "print(\"Precision is:\",precision_score(y_test,y_pre,average='weighted'))\n",
    "print(\"Recall is:\",recall_score(y_test,y_pre,average='weighted'))\n",
    "print(\"F1 Score is:\",f1_score(y_test,y_pre,average='weighted'))"
   ]
  },
  {
   "cell_type": "code",
   "execution_count": 223,
   "id": "c42d34b5",
   "metadata": {},
   "outputs": [
    {
     "data": {
      "text/plain": [
       "array([[27,  3],\n",
       "       [ 4,  3]], dtype=int64)"
      ]
     },
     "execution_count": 223,
     "metadata": {},
     "output_type": "execute_result"
    }
   ],
   "source": [
    "confusion_matrix(y_test,y_pre)"
   ]
  },
  {
   "cell_type": "markdown",
   "id": "6e100b49",
   "metadata": {},
   "source": [
    "##### Polynomial SVM"
   ]
  },
  {
   "cell_type": "code",
   "execution_count": 224,
   "id": "69fddda6",
   "metadata": {},
   "outputs": [],
   "source": [
    "svm_poly=SVC(kernel='poly',degree=3)\n",
    "svm_poly.fit(x_train,y_train)\n",
    "y_pre1=svm_poly.predict(x_test)"
   ]
  },
  {
   "cell_type": "code",
   "execution_count": 225,
   "id": "a7712347",
   "metadata": {},
   "outputs": [
    {
     "name": "stdout",
     "output_type": "stream",
     "text": [
      "Accuracy is: 0.7837837837837838\n",
      "Precision is: 0.7307896131425542\n",
      "Recall is: 0.7837837837837838\n",
      "F1 Score is: 0.7472972972972972\n"
     ]
    }
   ],
   "source": [
    "print(\"Accuracy is:\",accuracy_score(y_test,y_pre1))\n",
    "print(\"Precision is:\",precision_score(y_test,y_pre1,average='weighted'))\n",
    "print(\"Recall is:\",recall_score(y_test,y_pre1,average='weighted'))\n",
    "print(\"F1 Score is:\",f1_score(y_test,y_pre1,average='weighted'))"
   ]
  },
  {
   "cell_type": "code",
   "execution_count": 226,
   "id": "7f25cefa",
   "metadata": {},
   "outputs": [
    {
     "data": {
      "text/plain": [
       "array([[28,  2],\n",
       "       [ 6,  1]], dtype=int64)"
      ]
     },
     "execution_count": 226,
     "metadata": {},
     "output_type": "execute_result"
    }
   ],
   "source": [
    "confusion_matrix(y_test,y_pre1)"
   ]
  },
  {
   "cell_type": "markdown",
   "id": "e737cf5b",
   "metadata": {},
   "source": [
    "##### Radial SVM"
   ]
  },
  {
   "cell_type": "code",
   "execution_count": 227,
   "id": "114f9146",
   "metadata": {},
   "outputs": [],
   "source": [
    "svm_rad=SVC(kernel='rbf')\n",
    "svm_rad.fit(x_train,y_train)\n",
    "y_pre2=svm_rad.predict(x_test)"
   ]
  },
  {
   "cell_type": "code",
   "execution_count": 228,
   "id": "dac4d65c",
   "metadata": {},
   "outputs": [
    {
     "name": "stdout",
     "output_type": "stream",
     "text": [
      "Accuracy is: 0.8108108108108109\n",
      "Precision is: 0.7664092664092664\n",
      "Recall is: 0.8108108108108109\n",
      "F1 Score is: 0.7655347655347655\n"
     ]
    }
   ],
   "source": [
    "print(\"Accuracy is:\",accuracy_score(y_test,y_pre2))\n",
    "print(\"Precision is:\",precision_score(y_test,y_pre2,average='weighted'))\n",
    "print(\"Recall is:\",recall_score(y_test,y_pre2,average='weighted'))\n",
    "print(\"F1 Score is:\",f1_score(y_test,y_pre2,average='weighted'))"
   ]
  },
  {
   "cell_type": "code",
   "execution_count": 229,
   "id": "05581834",
   "metadata": {
    "scrolled": true
   },
   "outputs": [
    {
     "data": {
      "text/plain": [
       "array([[29,  1],\n",
       "       [ 6,  1]], dtype=int64)"
      ]
     },
     "execution_count": 229,
     "metadata": {},
     "output_type": "execute_result"
    }
   ],
   "source": [
    "confusion_matrix(y_test,y_pre2)"
   ]
  },
  {
   "cell_type": "markdown",
   "id": "b05cd1bf",
   "metadata": {},
   "source": [
    "#### Insight\n",
    "\n",
    "The Gradient Boosting model has the highest vaules.\n",
    "\n",
    "Accuracy is: 0.8918918918918919\n",
    "\n",
    "Precision is: 0.8861486486486487\n",
    "\n",
    "Recall is: 0.8918918918918919\n",
    "\n",
    "F1 Score is: 0.8846265620459167\n",
    "\n",
    "Hence it is the best model"
   ]
  },
  {
   "cell_type": "markdown",
   "id": "6aa35143",
   "metadata": {},
   "source": [
    "## CONCLUSION"
   ]
  },
  {
   "cell_type": "markdown",
   "id": "cfc75aa5",
   "metadata": {},
   "source": [
    "After performing the supervised machine learning analysis on the Titanic dataset, we have gained valuable insights and built a predictive model to determine the survival status of passengers based on various features. Here are the key conclusions from our analysis:\n",
    "\n",
    "1. **Data Preprocessing:**\n",
    "   We carefully handled missing values and converted categorical variables into numerical representations to ensure the dataset was suitable for machine learning algorithms.\n",
    "\n",
    "2. **Feature Engineering:**\n",
    "   By creating the 'Cabin Known' feature, we were able to capture the information about whether a passenger's cabin data was available or not. This engineered feature provided additional information that could influence survival predictions.\n",
    "\n",
    "3. **Model Selection and Performance:**\n",
    "   We selected the RandomForestClassifier as our predictive model and evaluated its performance using multiple metrics, including Mean Squared Error (MSE), R-squared, Accuracy, Precision, Recall, F1 Score, and Confusion Matrix. The model showed promising performance in predicting survival outcomes.\n",
    "\n",
    "4. **Interpretability vs. Accuracy Trade-off:**\n",
    "   We acknowledge that RandomForestClassifier prioritizes accuracy over interpretability. For certain applications where model interpretability is critical, other models like Logistic Regression or Decision Trees may be more suitable.\n",
    "\n",
    "5. **Feature Importance:**\n",
    "   We identified the most important features in predicting survival using the feature importance output from the RandomForestClassifier. These insights can be valuable for understanding which factors played a significant role in determining survival on the Titanic.\n",
    "\n",
    "6. **Further Analysis:**\n",
    "   Our analysis provides a solid foundation, but further explorations can be done. This includes hyperparameter tuning to optimize model performance, additional feature engineering to capture more patterns, and testing alternative algorithms to compare and select the best model.\n",
    "\n",
    "7. **Limitations:**\n",
    "   It's important to acknowledge the limitations of the Titanic dataset itself, which is a historical dataset and may not perfectly represent modern scenarios. Additionally, the dataset is relatively small, which may impact the model's generalization to unseen data.\n",
    "\n",
    "8. **Practical Applications:**\n",
    "   The skills and knowledge gained from this analysis can be applied to other real-world datasets and machine learning projects. The process of data preprocessing, feature engineering, model selection, and evaluation is a standard workflow for supervised learning tasks.\n",
    "\n",
    "In conclusion, this analysis has provided us with a predictive model capable of determining the survival status of passengers on the Titanic. The insights gained and techniques used can be applied to similar classification tasks in various domains. However, for practical applications, it is essential to tailor the approach to the specific dataset and business problem at hand. The journey of data analysis and machine learning is continuous, and continuous improvement and refinement of models are essential for achieving more accurate and meaningful predictions."
   ]
  }
 ],
 "metadata": {
  "kernelspec": {
   "display_name": "Python 3 (ipykernel)",
   "language": "python",
   "name": "python3"
  },
  "language_info": {
   "codemirror_mode": {
    "name": "ipython",
    "version": 3
   },
   "file_extension": ".py",
   "mimetype": "text/x-python",
   "name": "python",
   "nbconvert_exporter": "python",
   "pygments_lexer": "ipython3",
   "version": "3.9.12"
  }
 },
 "nbformat": 4,
 "nbformat_minor": 5
}
